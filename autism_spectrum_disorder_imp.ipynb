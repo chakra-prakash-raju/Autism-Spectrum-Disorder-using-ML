{
 "cells": [
  {
   "cell_type": "markdown",
   "metadata": {
    "id": "nabBr7wUK9Ke"
   },
   "source": [
    "# **Exploratory Data Analysis**"
   ]
  },
  {
   "cell_type": "code",
   "execution_count": 1,
   "metadata": {},
   "outputs": [],
   "source": [
    "#Importing Libraries\n",
    "import numpy as np\n",
    "import matplotlib.pyplot as plt\n",
    "import pandas as pd\n",
    "import seaborn as sns\n",
    "import warnings\n",
    "warnings.filterwarnings(\"ignore\")"
   ]
  },
  {
   "cell_type": "code",
   "execution_count": 2,
   "metadata": {},
   "outputs": [],
   "source": [
    "columns = ['A1', 'A2', 'A3', 'A4', 'A5', 'A6', 'A7', 'A8', 'A9', 'A10', 'age', 'gender', 'ethnicity', 'jaundice',\n",
    "           'autism', 'country_of_res', 'used_app_before', 'result', 'age_desc', 'relation', 'class']\n",
    "data = pd.read_csv(\"input.csv\") #.drop(['Unnamed: 0'],axis=1)\n",
    "#data.to_csv('input.csv',index=False)\n",
    "data = data[columns]"
   ]
  },
  {
   "cell_type": "code",
   "execution_count": 3,
   "metadata": {
    "colab": {
     "base_uri": "https://localhost:8080/"
    },
    "id": "39eWOATANrQ1",
    "outputId": "189c419a-6395-4856-bdf0-e93494542150"
   },
   "outputs": [
    {
     "name": "stdout",
     "output_type": "stream",
     "text": [
      "(1100, 21)\n"
     ]
    }
   ],
   "source": [
    "#Defining the number or rows and columns\n",
    "print(data.shape)"
   ]
  },
  {
   "cell_type": "markdown",
   "metadata": {
    "id": "UtE9ZeuGRXyU"
   },
   "source": [
    "\n",
    "\n",
    "> Dataset consists of 1100 rows and 21 columns.\n",
    "\n"
   ]
  },
  {
   "cell_type": "code",
   "execution_count": 4,
   "metadata": {
    "colab": {
     "base_uri": "https://localhost:8080/"
    },
    "id": "Re8V2721-87y",
    "outputId": "4aadfce6-d662-4bec-86e1-0e4aaeeb6579"
   },
   "outputs": [
    {
     "data": {
      "text/plain": [
       "age                  6\n",
       "gender               0\n",
       "ethnicity          144\n",
       "jaundice             0\n",
       "autism               0\n",
       "relation           144\n",
       "country_of_res       0\n",
       "used_app_before      0\n",
       "age_desc             0\n",
       "A1                   0\n",
       "A2                   0\n",
       "A3                   0\n",
       "A4                   0\n",
       "A5                   0\n",
       "A6                   0\n",
       "A7                   0\n",
       "A8                   0\n",
       "A9                   0\n",
       "A10                  0\n",
       "result               0\n",
       "class                0\n",
       "dtype: int64"
      ]
     },
     "execution_count": 4,
     "metadata": {},
     "output_type": "execute_result"
    }
   ],
   "source": [
    "#Handling null values\n",
    "data = pd.read_csv(\"input.csv\", na_values=['?'])\n",
    "data.isnull().sum()"
   ]
  },
  {
   "cell_type": "code",
   "execution_count": 5,
   "metadata": {
    "colab": {
     "base_uri": "https://localhost:8080/",
     "height": 661
    },
    "id": "0aYGwpd2RTEG",
    "outputId": "84ae5cda-48f5-4a8c-c04b-3b39dada2ac0"
   },
   "outputs": [
    {
     "data": {
      "text/html": [
       "<div>\n",
       "<style scoped>\n",
       "    .dataframe tbody tr th:only-of-type {\n",
       "        vertical-align: middle;\n",
       "    }\n",
       "\n",
       "    .dataframe tbody tr th {\n",
       "        vertical-align: top;\n",
       "    }\n",
       "\n",
       "    .dataframe thead th {\n",
       "        text-align: right;\n",
       "    }\n",
       "</style>\n",
       "<table border=\"1\" class=\"dataframe\">\n",
       "  <thead>\n",
       "    <tr style=\"text-align: right;\">\n",
       "      <th></th>\n",
       "      <th>age</th>\n",
       "      <th>gender</th>\n",
       "      <th>ethnicity</th>\n",
       "      <th>jaundice</th>\n",
       "      <th>autism</th>\n",
       "      <th>relation</th>\n",
       "      <th>country_of_res</th>\n",
       "      <th>used_app_before</th>\n",
       "      <th>age_desc</th>\n",
       "      <th>A1</th>\n",
       "      <th>...</th>\n",
       "      <th>A3</th>\n",
       "      <th>A4</th>\n",
       "      <th>A5</th>\n",
       "      <th>A6</th>\n",
       "      <th>A7</th>\n",
       "      <th>A8</th>\n",
       "      <th>A9</th>\n",
       "      <th>A10</th>\n",
       "      <th>result</th>\n",
       "      <th>class</th>\n",
       "    </tr>\n",
       "  </thead>\n",
       "  <tbody>\n",
       "    <tr>\n",
       "      <th>0</th>\n",
       "      <td>6.0</td>\n",
       "      <td>m</td>\n",
       "      <td>Others</td>\n",
       "      <td>no</td>\n",
       "      <td>no</td>\n",
       "      <td>Parent</td>\n",
       "      <td>Jordan</td>\n",
       "      <td>no</td>\n",
       "      <td>'4-11 years'</td>\n",
       "      <td>1</td>\n",
       "      <td>...</td>\n",
       "      <td>0</td>\n",
       "      <td>0</td>\n",
       "      <td>1</td>\n",
       "      <td>1</td>\n",
       "      <td>0</td>\n",
       "      <td>1</td>\n",
       "      <td>0</td>\n",
       "      <td>0</td>\n",
       "      <td>5</td>\n",
       "      <td>NO</td>\n",
       "    </tr>\n",
       "    <tr>\n",
       "      <th>1</th>\n",
       "      <td>6.0</td>\n",
       "      <td>m</td>\n",
       "      <td>'Middle Eastern '</td>\n",
       "      <td>no</td>\n",
       "      <td>no</td>\n",
       "      <td>Parent</td>\n",
       "      <td>Jordan</td>\n",
       "      <td>no</td>\n",
       "      <td>'4-11 years'</td>\n",
       "      <td>1</td>\n",
       "      <td>...</td>\n",
       "      <td>0</td>\n",
       "      <td>0</td>\n",
       "      <td>1</td>\n",
       "      <td>1</td>\n",
       "      <td>0</td>\n",
       "      <td>1</td>\n",
       "      <td>0</td>\n",
       "      <td>0</td>\n",
       "      <td>5</td>\n",
       "      <td>NO</td>\n",
       "    </tr>\n",
       "    <tr>\n",
       "      <th>2</th>\n",
       "      <td>6.0</td>\n",
       "      <td>m</td>\n",
       "      <td>NaN</td>\n",
       "      <td>no</td>\n",
       "      <td>no</td>\n",
       "      <td>NaN</td>\n",
       "      <td>Jordan</td>\n",
       "      <td>yes</td>\n",
       "      <td>'4-11 years'</td>\n",
       "      <td>1</td>\n",
       "      <td>...</td>\n",
       "      <td>0</td>\n",
       "      <td>0</td>\n",
       "      <td>0</td>\n",
       "      <td>1</td>\n",
       "      <td>1</td>\n",
       "      <td>1</td>\n",
       "      <td>0</td>\n",
       "      <td>0</td>\n",
       "      <td>5</td>\n",
       "      <td>NO</td>\n",
       "    </tr>\n",
       "    <tr>\n",
       "      <th>3</th>\n",
       "      <td>5.0</td>\n",
       "      <td>f</td>\n",
       "      <td>NaN</td>\n",
       "      <td>yes</td>\n",
       "      <td>no</td>\n",
       "      <td>NaN</td>\n",
       "      <td>Jordan</td>\n",
       "      <td>no</td>\n",
       "      <td>'4-11 years'</td>\n",
       "      <td>0</td>\n",
       "      <td>...</td>\n",
       "      <td>0</td>\n",
       "      <td>0</td>\n",
       "      <td>1</td>\n",
       "      <td>1</td>\n",
       "      <td>0</td>\n",
       "      <td>0</td>\n",
       "      <td>0</td>\n",
       "      <td>1</td>\n",
       "      <td>4</td>\n",
       "      <td>NO</td>\n",
       "    </tr>\n",
       "    <tr>\n",
       "      <th>4</th>\n",
       "      <td>5.0</td>\n",
       "      <td>m</td>\n",
       "      <td>Others</td>\n",
       "      <td>yes</td>\n",
       "      <td>no</td>\n",
       "      <td>Parent</td>\n",
       "      <td>'United States'</td>\n",
       "      <td>no</td>\n",
       "      <td>'4-11 years'</td>\n",
       "      <td>1</td>\n",
       "      <td>...</td>\n",
       "      <td>1</td>\n",
       "      <td>1</td>\n",
       "      <td>1</td>\n",
       "      <td>1</td>\n",
       "      <td>1</td>\n",
       "      <td>1</td>\n",
       "      <td>1</td>\n",
       "      <td>1</td>\n",
       "      <td>10</td>\n",
       "      <td>YES</td>\n",
       "    </tr>\n",
       "    <tr>\n",
       "      <th>...</th>\n",
       "      <td>...</td>\n",
       "      <td>...</td>\n",
       "      <td>...</td>\n",
       "      <td>...</td>\n",
       "      <td>...</td>\n",
       "      <td>...</td>\n",
       "      <td>...</td>\n",
       "      <td>...</td>\n",
       "      <td>...</td>\n",
       "      <td>...</td>\n",
       "      <td>...</td>\n",
       "      <td>...</td>\n",
       "      <td>...</td>\n",
       "      <td>...</td>\n",
       "      <td>...</td>\n",
       "      <td>...</td>\n",
       "      <td>...</td>\n",
       "      <td>...</td>\n",
       "      <td>...</td>\n",
       "      <td>...</td>\n",
       "      <td>...</td>\n",
       "    </tr>\n",
       "    <tr>\n",
       "      <th>1095</th>\n",
       "      <td>25.0</td>\n",
       "      <td>f</td>\n",
       "      <td>White-European</td>\n",
       "      <td>no</td>\n",
       "      <td>no</td>\n",
       "      <td>Self</td>\n",
       "      <td>Russia</td>\n",
       "      <td>no</td>\n",
       "      <td>'18 and more'</td>\n",
       "      <td>0</td>\n",
       "      <td>...</td>\n",
       "      <td>0</td>\n",
       "      <td>1</td>\n",
       "      <td>1</td>\n",
       "      <td>0</td>\n",
       "      <td>1</td>\n",
       "      <td>1</td>\n",
       "      <td>1</td>\n",
       "      <td>1</td>\n",
       "      <td>7</td>\n",
       "      <td>YES</td>\n",
       "    </tr>\n",
       "    <tr>\n",
       "      <th>1096</th>\n",
       "      <td>34.0</td>\n",
       "      <td>m</td>\n",
       "      <td>Hispanic</td>\n",
       "      <td>no</td>\n",
       "      <td>no</td>\n",
       "      <td>Parent</td>\n",
       "      <td>Mexico</td>\n",
       "      <td>no</td>\n",
       "      <td>'18 and more'</td>\n",
       "      <td>1</td>\n",
       "      <td>...</td>\n",
       "      <td>0</td>\n",
       "      <td>0</td>\n",
       "      <td>0</td>\n",
       "      <td>0</td>\n",
       "      <td>0</td>\n",
       "      <td>1</td>\n",
       "      <td>0</td>\n",
       "      <td>1</td>\n",
       "      <td>3</td>\n",
       "      <td>NO</td>\n",
       "    </tr>\n",
       "    <tr>\n",
       "      <th>1097</th>\n",
       "      <td>24.0</td>\n",
       "      <td>f</td>\n",
       "      <td>NaN</td>\n",
       "      <td>no</td>\n",
       "      <td>no</td>\n",
       "      <td>NaN</td>\n",
       "      <td>Russia</td>\n",
       "      <td>no</td>\n",
       "      <td>'18 and more'</td>\n",
       "      <td>1</td>\n",
       "      <td>...</td>\n",
       "      <td>1</td>\n",
       "      <td>1</td>\n",
       "      <td>1</td>\n",
       "      <td>0</td>\n",
       "      <td>1</td>\n",
       "      <td>1</td>\n",
       "      <td>0</td>\n",
       "      <td>1</td>\n",
       "      <td>7</td>\n",
       "      <td>YES</td>\n",
       "    </tr>\n",
       "    <tr>\n",
       "      <th>1098</th>\n",
       "      <td>35.0</td>\n",
       "      <td>m</td>\n",
       "      <td>'South Asian'</td>\n",
       "      <td>no</td>\n",
       "      <td>no</td>\n",
       "      <td>Self</td>\n",
       "      <td>Pakistan</td>\n",
       "      <td>no</td>\n",
       "      <td>'18 and more'</td>\n",
       "      <td>1</td>\n",
       "      <td>...</td>\n",
       "      <td>0</td>\n",
       "      <td>1</td>\n",
       "      <td>1</td>\n",
       "      <td>0</td>\n",
       "      <td>1</td>\n",
       "      <td>0</td>\n",
       "      <td>1</td>\n",
       "      <td>1</td>\n",
       "      <td>6</td>\n",
       "      <td>NO</td>\n",
       "    </tr>\n",
       "    <tr>\n",
       "      <th>1099</th>\n",
       "      <td>26.0</td>\n",
       "      <td>f</td>\n",
       "      <td>White-European</td>\n",
       "      <td>no</td>\n",
       "      <td>no</td>\n",
       "      <td>Self</td>\n",
       "      <td>Cyprus</td>\n",
       "      <td>no</td>\n",
       "      <td>'18 and more'</td>\n",
       "      <td>1</td>\n",
       "      <td>...</td>\n",
       "      <td>1</td>\n",
       "      <td>1</td>\n",
       "      <td>1</td>\n",
       "      <td>0</td>\n",
       "      <td>1</td>\n",
       "      <td>1</td>\n",
       "      <td>1</td>\n",
       "      <td>1</td>\n",
       "      <td>8</td>\n",
       "      <td>YES</td>\n",
       "    </tr>\n",
       "  </tbody>\n",
       "</table>\n",
       "<p>1100 rows × 21 columns</p>\n",
       "</div>"
      ],
      "text/plain": [
       "       age gender          ethnicity jaundice autism relation  \\\n",
       "0      6.0      m             Others       no     no   Parent   \n",
       "1      6.0      m  'Middle Eastern '       no     no   Parent   \n",
       "2      6.0      m                NaN       no     no      NaN   \n",
       "3      5.0      f                NaN      yes     no      NaN   \n",
       "4      5.0      m             Others      yes     no   Parent   \n",
       "...    ...    ...                ...      ...    ...      ...   \n",
       "1095  25.0      f     White-European       no     no     Self   \n",
       "1096  34.0      m           Hispanic       no     no   Parent   \n",
       "1097  24.0      f                NaN       no     no      NaN   \n",
       "1098  35.0      m      'South Asian'       no     no     Self   \n",
       "1099  26.0      f     White-European       no     no     Self   \n",
       "\n",
       "       country_of_res used_app_before       age_desc  A1  ...  A3  A4  A5  A6  \\\n",
       "0              Jordan              no   '4-11 years'   1  ...   0   0   1   1   \n",
       "1              Jordan              no   '4-11 years'   1  ...   0   0   1   1   \n",
       "2              Jordan             yes   '4-11 years'   1  ...   0   0   0   1   \n",
       "3              Jordan              no   '4-11 years'   0  ...   0   0   1   1   \n",
       "4     'United States'              no   '4-11 years'   1  ...   1   1   1   1   \n",
       "...               ...             ...            ...  ..  ...  ..  ..  ..  ..   \n",
       "1095           Russia              no  '18 and more'   0  ...   0   1   1   0   \n",
       "1096           Mexico              no  '18 and more'   1  ...   0   0   0   0   \n",
       "1097           Russia              no  '18 and more'   1  ...   1   1   1   0   \n",
       "1098         Pakistan              no  '18 and more'   1  ...   0   1   1   0   \n",
       "1099           Cyprus              no  '18 and more'   1  ...   1   1   1   0   \n",
       "\n",
       "      A7  A8  A9  A10  result  class  \n",
       "0      0   1   0    0       5     NO  \n",
       "1      0   1   0    0       5     NO  \n",
       "2      1   1   0    0       5     NO  \n",
       "3      0   0   0    1       4     NO  \n",
       "4      1   1   1    1      10    YES  \n",
       "...   ..  ..  ..  ...     ...    ...  \n",
       "1095   1   1   1    1       7    YES  \n",
       "1096   0   1   0    1       3     NO  \n",
       "1097   1   1   0    1       7    YES  \n",
       "1098   1   0   1    1       6     NO  \n",
       "1099   1   1   1    1       8    YES  \n",
       "\n",
       "[1100 rows x 21 columns]"
      ]
     },
     "execution_count": 5,
     "metadata": {},
     "output_type": "execute_result"
    }
   ],
   "source": [
    "#Displaying the dataset\n",
    "data"
   ]
  },
  {
   "cell_type": "code",
   "execution_count": 6,
   "metadata": {
    "colab": {
     "base_uri": "https://localhost:8080/",
     "height": 300
    },
    "id": "4EXQj-X2QLmA",
    "outputId": "3d5aeb6f-d681-418b-eb12-3a08f8694bd8"
   },
   "outputs": [
    {
     "data": {
      "text/html": [
       "<div>\n",
       "<style scoped>\n",
       "    .dataframe tbody tr th:only-of-type {\n",
       "        vertical-align: middle;\n",
       "    }\n",
       "\n",
       "    .dataframe tbody tr th {\n",
       "        vertical-align: top;\n",
       "    }\n",
       "\n",
       "    .dataframe thead th {\n",
       "        text-align: right;\n",
       "    }\n",
       "</style>\n",
       "<table border=\"1\" class=\"dataframe\">\n",
       "  <thead>\n",
       "    <tr style=\"text-align: right;\">\n",
       "      <th></th>\n",
       "      <th>age</th>\n",
       "      <th>A1</th>\n",
       "      <th>A2</th>\n",
       "      <th>A3</th>\n",
       "      <th>A4</th>\n",
       "      <th>A5</th>\n",
       "      <th>A6</th>\n",
       "      <th>A7</th>\n",
       "      <th>A8</th>\n",
       "      <th>A9</th>\n",
       "      <th>A10</th>\n",
       "      <th>result</th>\n",
       "    </tr>\n",
       "  </thead>\n",
       "  <tbody>\n",
       "    <tr>\n",
       "      <th>count</th>\n",
       "      <td>1094.000000</td>\n",
       "      <td>1100.000000</td>\n",
       "      <td>1100.000000</td>\n",
       "      <td>1100.000000</td>\n",
       "      <td>1100.000000</td>\n",
       "      <td>1100.000000</td>\n",
       "      <td>1100.000000</td>\n",
       "      <td>1100.000000</td>\n",
       "      <td>1100.000000</td>\n",
       "      <td>1100.000000</td>\n",
       "      <td>1100.000000</td>\n",
       "      <td>1100.000000</td>\n",
       "    </tr>\n",
       "    <tr>\n",
       "      <th>mean</th>\n",
       "      <td>22.073126</td>\n",
       "      <td>0.699091</td>\n",
       "      <td>0.482727</td>\n",
       "      <td>0.551818</td>\n",
       "      <td>0.530000</td>\n",
       "      <td>0.587273</td>\n",
       "      <td>0.443636</td>\n",
       "      <td>0.477273</td>\n",
       "      <td>0.605455</td>\n",
       "      <td>0.412727</td>\n",
       "      <td>0.621818</td>\n",
       "      <td>5.411818</td>\n",
       "    </tr>\n",
       "    <tr>\n",
       "      <th>std</th>\n",
       "      <td>16.879373</td>\n",
       "      <td>0.458862</td>\n",
       "      <td>0.499929</td>\n",
       "      <td>0.497534</td>\n",
       "      <td>0.499326</td>\n",
       "      <td>0.492548</td>\n",
       "      <td>0.497039</td>\n",
       "      <td>0.499710</td>\n",
       "      <td>0.488975</td>\n",
       "      <td>0.492548</td>\n",
       "      <td>0.485154</td>\n",
       "      <td>2.523492</td>\n",
       "    </tr>\n",
       "    <tr>\n",
       "      <th>min</th>\n",
       "      <td>4.000000</td>\n",
       "      <td>0.000000</td>\n",
       "      <td>0.000000</td>\n",
       "      <td>0.000000</td>\n",
       "      <td>0.000000</td>\n",
       "      <td>0.000000</td>\n",
       "      <td>0.000000</td>\n",
       "      <td>0.000000</td>\n",
       "      <td>0.000000</td>\n",
       "      <td>0.000000</td>\n",
       "      <td>0.000000</td>\n",
       "      <td>0.000000</td>\n",
       "    </tr>\n",
       "    <tr>\n",
       "      <th>25%</th>\n",
       "      <td>11.000000</td>\n",
       "      <td>0.000000</td>\n",
       "      <td>0.000000</td>\n",
       "      <td>0.000000</td>\n",
       "      <td>0.000000</td>\n",
       "      <td>0.000000</td>\n",
       "      <td>0.000000</td>\n",
       "      <td>0.000000</td>\n",
       "      <td>0.000000</td>\n",
       "      <td>0.000000</td>\n",
       "      <td>0.000000</td>\n",
       "      <td>3.000000</td>\n",
       "    </tr>\n",
       "    <tr>\n",
       "      <th>50%</th>\n",
       "      <td>21.000000</td>\n",
       "      <td>1.000000</td>\n",
       "      <td>0.000000</td>\n",
       "      <td>1.000000</td>\n",
       "      <td>1.000000</td>\n",
       "      <td>1.000000</td>\n",
       "      <td>0.000000</td>\n",
       "      <td>0.000000</td>\n",
       "      <td>1.000000</td>\n",
       "      <td>0.000000</td>\n",
       "      <td>1.000000</td>\n",
       "      <td>5.000000</td>\n",
       "    </tr>\n",
       "    <tr>\n",
       "      <th>75%</th>\n",
       "      <td>30.000000</td>\n",
       "      <td>1.000000</td>\n",
       "      <td>1.000000</td>\n",
       "      <td>1.000000</td>\n",
       "      <td>1.000000</td>\n",
       "      <td>1.000000</td>\n",
       "      <td>1.000000</td>\n",
       "      <td>1.000000</td>\n",
       "      <td>1.000000</td>\n",
       "      <td>1.000000</td>\n",
       "      <td>1.000000</td>\n",
       "      <td>7.250000</td>\n",
       "    </tr>\n",
       "    <tr>\n",
       "      <th>max</th>\n",
       "      <td>383.000000</td>\n",
       "      <td>1.000000</td>\n",
       "      <td>1.000000</td>\n",
       "      <td>1.000000</td>\n",
       "      <td>1.000000</td>\n",
       "      <td>1.000000</td>\n",
       "      <td>1.000000</td>\n",
       "      <td>1.000000</td>\n",
       "      <td>1.000000</td>\n",
       "      <td>1.000000</td>\n",
       "      <td>1.000000</td>\n",
       "      <td>10.000000</td>\n",
       "    </tr>\n",
       "  </tbody>\n",
       "</table>\n",
       "</div>"
      ],
      "text/plain": [
       "               age           A1           A2           A3           A4  \\\n",
       "count  1094.000000  1100.000000  1100.000000  1100.000000  1100.000000   \n",
       "mean     22.073126     0.699091     0.482727     0.551818     0.530000   \n",
       "std      16.879373     0.458862     0.499929     0.497534     0.499326   \n",
       "min       4.000000     0.000000     0.000000     0.000000     0.000000   \n",
       "25%      11.000000     0.000000     0.000000     0.000000     0.000000   \n",
       "50%      21.000000     1.000000     0.000000     1.000000     1.000000   \n",
       "75%      30.000000     1.000000     1.000000     1.000000     1.000000   \n",
       "max     383.000000     1.000000     1.000000     1.000000     1.000000   \n",
       "\n",
       "                A5           A6           A7           A8           A9  \\\n",
       "count  1100.000000  1100.000000  1100.000000  1100.000000  1100.000000   \n",
       "mean      0.587273     0.443636     0.477273     0.605455     0.412727   \n",
       "std       0.492548     0.497039     0.499710     0.488975     0.492548   \n",
       "min       0.000000     0.000000     0.000000     0.000000     0.000000   \n",
       "25%       0.000000     0.000000     0.000000     0.000000     0.000000   \n",
       "50%       1.000000     0.000000     0.000000     1.000000     0.000000   \n",
       "75%       1.000000     1.000000     1.000000     1.000000     1.000000   \n",
       "max       1.000000     1.000000     1.000000     1.000000     1.000000   \n",
       "\n",
       "               A10       result  \n",
       "count  1100.000000  1100.000000  \n",
       "mean      0.621818     5.411818  \n",
       "std       0.485154     2.523492  \n",
       "min       0.000000     0.000000  \n",
       "25%       0.000000     3.000000  \n",
       "50%       1.000000     5.000000  \n",
       "75%       1.000000     7.250000  \n",
       "max       1.000000    10.000000  "
      ]
     },
     "execution_count": 6,
     "metadata": {},
     "output_type": "execute_result"
    }
   ],
   "source": [
    "#Print out a description of the dataframe\n",
    "data.describe()"
   ]
  },
  {
   "cell_type": "code",
   "execution_count": 7,
   "metadata": {
    "colab": {
     "base_uri": "https://localhost:8080/"
    },
    "id": "t5Kmx7iU3yWv",
    "outputId": "db9abc48-9736-4f8a-8916-1920d556444e"
   },
   "outputs": [
    {
     "data": {
      "text/plain": [
       "age                59\n",
       "gender              2\n",
       "ethnicity          12\n",
       "jaundice            2\n",
       "autism              2\n",
       "relation            6\n",
       "country_of_res     89\n",
       "used_app_before     2\n",
       "age_desc            4\n",
       "A1                  2\n",
       "A2                  2\n",
       "A3                  2\n",
       "A4                  2\n",
       "A5                  2\n",
       "A6                  2\n",
       "A7                  2\n",
       "A8                  2\n",
       "A9                  2\n",
       "A10                 2\n",
       "result             11\n",
       "class               2\n",
       "dtype: int64"
      ]
     },
     "execution_count": 7,
     "metadata": {},
     "output_type": "execute_result"
    }
   ],
   "source": [
    "data.nunique()"
   ]
  },
  {
   "cell_type": "markdown",
   "metadata": {
    "id": "vNDOdhqE4ItN"
   },
   "source": [
    "\n",
    "\n",
    "> All other features except age and country_of_res have sufficiently low cardinality to one-hot encode them.\n",
    "\n"
   ]
  },
  {
   "cell_type": "code",
   "execution_count": 8,
   "metadata": {
    "id": "edzEKEyjQmpJ"
   },
   "outputs": [],
   "source": [
    "#Drop unwanted columns\n",
    "data = data.drop(['age_desc', 'used_app_before', 'relation', 'result'], axis=1)"
   ]
  },
  {
   "cell_type": "code",
   "execution_count": 9,
   "metadata": {
    "id": "9GS2Ysu8lx2n"
   },
   "outputs": [],
   "source": [
    "#Rename the columns\n",
    "data.rename(columns = {'jundice':'jaundice', 'contry_of_res':'country_of_res'}, inplace = True)"
   ]
  },
  {
   "cell_type": "code",
   "execution_count": 10,
   "metadata": {
    "colab": {
     "base_uri": "https://localhost:8080/"
    },
    "id": "y8vPBmPZR1hN",
    "outputId": "4671a3a3-faa8-462b-f09d-5c232f0a9257"
   },
   "outputs": [
    {
     "name": "stdout",
     "output_type": "stream",
     "text": [
      "<class 'pandas.core.frame.DataFrame'>\n",
      "RangeIndex: 1100 entries, 0 to 1099\n",
      "Data columns (total 17 columns):\n",
      " #   Column          Non-Null Count  Dtype  \n",
      "---  ------          --------------  -----  \n",
      " 0   age             1094 non-null   float64\n",
      " 1   gender          1100 non-null   object \n",
      " 2   ethnicity       956 non-null    object \n",
      " 3   jaundice        1100 non-null   object \n",
      " 4   autism          1100 non-null   object \n",
      " 5   country_of_res  1100 non-null   object \n",
      " 6   A1              1100 non-null   int64  \n",
      " 7   A2              1100 non-null   int64  \n",
      " 8   A3              1100 non-null   int64  \n",
      " 9   A4              1100 non-null   int64  \n",
      " 10  A5              1100 non-null   int64  \n",
      " 11  A6              1100 non-null   int64  \n",
      " 12  A7              1100 non-null   int64  \n",
      " 13  A8              1100 non-null   int64  \n",
      " 14  A9              1100 non-null   int64  \n",
      " 15  A10             1100 non-null   int64  \n",
      " 16  class           1100 non-null   object \n",
      "dtypes: float64(1), int64(10), object(6)\n",
      "memory usage: 146.2+ KB\n"
     ]
    }
   ],
   "source": [
    "#Displaying concise summary of data\n",
    "data.info()"
   ]
  },
  {
   "cell_type": "code",
   "execution_count": 11,
   "metadata": {
    "colab": {
     "base_uri": "https://localhost:8080/"
    },
    "id": "3OlvU_waS3b8",
    "outputId": "6441843c-9253-440d-cbc7-dd146eb489ab"
   },
   "outputs": [
    {
     "data": {
      "text/plain": [
       "age               float64\n",
       "gender             object\n",
       "ethnicity          object\n",
       "jaundice           object\n",
       "autism             object\n",
       "country_of_res     object\n",
       "A1                  int64\n",
       "A2                  int64\n",
       "A3                  int64\n",
       "A4                  int64\n",
       "A5                  int64\n",
       "A6                  int64\n",
       "A7                  int64\n",
       "A8                  int64\n",
       "A9                  int64\n",
       "A10                 int64\n",
       "class              object\n",
       "dtype: object"
      ]
     },
     "execution_count": 11,
     "metadata": {},
     "output_type": "execute_result"
    }
   ],
   "source": [
    "#Datatype Handling\n",
    "data.dtypes"
   ]
  },
  {
   "cell_type": "code",
   "execution_count": 12,
   "metadata": {
    "colab": {
     "base_uri": "https://localhost:8080/"
    },
    "id": "y-i_RlRKTtqg",
    "outputId": "acd34fa8-f52b-4c01-d9a6-e40b76a89eb1"
   },
   "outputs": [
    {
     "name": "stdout",
     "output_type": "stream",
     "text": [
      "Total number of records: 1100\n",
      "Individuals diagonised with ASD: 393\n",
      "Individuals not diagonised with ASD: 707\n",
      "Percentage of individuals diagonised with ASD: 35.72727272727273\n"
     ]
    }
   ],
   "source": [
    "#Total number of records\n",
    "n_records = len(data.index)\n",
    "\n",
    "#Number of records where individual's with ASD\n",
    "n_asd_yes = len(data[data['class'] == 'YES'])\n",
    "\n",
    "#Number of records where individual's with no ASD\n",
    "n_asd_no = len(data[data['class'] == 'NO'])\n",
    "\n",
    "#Percentage of individuals whose are with ASD\n",
    "yes_percent = float(n_asd_yes) / n_records *100\n",
    "\n",
    "# Print the results\n",
    "print (\"Total number of records:\", n_records)\n",
    "print (\"Individuals diagonised with ASD:\", n_asd_yes)\n",
    "print (\"Individuals not diagonised with ASD:\", n_asd_no)\n",
    "print (\"Percentage of individuals diagonised with ASD:\", yes_percent)"
   ]
  },
  {
   "cell_type": "code",
   "execution_count": 13,
   "metadata": {
    "colab": {
     "base_uri": "https://localhost:8080/",
     "height": 383
    },
    "id": "Hb03qatD9jXs",
    "outputId": "667de80c-7db8-4e82-85b6-867142fae4f4"
   },
   "outputs": [
    {
     "name": "stdout",
     "output_type": "stream",
     "text": [
      "NO     707\n",
      "YES    393\n",
      "Name: class, dtype: int64\n",
      "\n",
      "\n"
     ]
    },
    {
     "data": {
      "text/plain": [
       "<AxesSubplot:xlabel='class', ylabel='count'>"
      ]
     },
     "execution_count": 13,
     "metadata": {},
     "output_type": "execute_result"
    },
    {
     "data": {
      "image/png": "[encoded data removed]",
      "text/plain": [
       "<Figure size 432x288 with 1 Axes>"
      ]
     },
     "metadata": {
      "needs_background": "light"
     },
     "output_type": "display_data"
    }
   ],
   "source": [
    "#Classifying countplot for person suffering from ASD \n",
    "print(data['class'].value_counts())\n",
    "print(\"\\n\")\n",
    "sns.countplot(data['class'])"
   ]
  },
  {
   "cell_type": "code",
   "execution_count": 14,
   "metadata": {
    "colab": {
     "base_uri": "https://localhost:8080/",
     "height": 638
    },
    "id": "bjXjsScTBABN",
    "outputId": "34b714b5-c455-484c-efc5-c70d70fc8eb9"
   },
   "outputs": [
    {
     "data": {
      "image/png": "[encoded data removed]",
      "text/plain": [
       "<Figure size 720x720 with 2 Axes>"
      ]
     },
     "metadata": {
      "needs_background": "light"
     },
     "output_type": "display_data"
    }
   ],
   "source": [
    "#Plotting Corrplot of the columns in dataset\n",
    "ig, ax = plt.subplots(figsize=(10,10))\n",
    "ax = sns.heatmap(data.corr(),annot=True,cmap='coolwarm',vmin=0, vmax=1)"
   ]
  },
  {
   "cell_type": "code",
   "execution_count": 15,
   "metadata": {
    "colab": {
     "base_uri": "https://localhost:8080/",
     "height": 357
    },
    "id": "Ta9nB40Ge9yK",
    "outputId": "276b1254-5cd7-4a61-a52e-17ffa8ea9430"
   },
   "outputs": [
    {
     "data": {
      "image/png": "[encoded data removed]",
      "text/plain": [
       "<Figure size 1440x432 with 1 Axes>"
      ]
     },
     "metadata": {},
     "output_type": "display_data"
    }
   ],
   "source": [
    "#Plotting pie chart of people suffering from autism spectrum of different age group\n",
    "child = []\n",
    "adol = []\n",
    "adult = []\n",
    "\n",
    "ages = data.iloc[:,0].tolist()\n",
    "ads = data.iloc[:,-1].tolist()\n",
    "\n",
    "for index in range(len(ages)):\n",
    "    if ads[index] == 'YES':\n",
    "        if ages[index] <= 11:\n",
    "            child.append(ages[index])\n",
    "        elif ages[index] > 11 and ages[index] <= 16:\n",
    "            adol.append(ages[index])\n",
    "        else:\n",
    "            adult.append(ages[index])\n",
    "\n",
    "y = np.array([len(child), len(adol), len(adult)])\n",
    "\n",
    "fig = plt.figure(figsize=(20,6))\n",
    "plt.pie(y,labels=[\"child\", \"adol\", \"adult\"], autopct='%1.1f%%', textprops={'fontsize': 14})\n",
    "plt.show()"
   ]
  },
  {
   "cell_type": "code",
   "execution_count": 16,
   "metadata": {
    "colab": {
     "base_uri": "https://localhost:8080/",
     "height": 414
    },
    "id": "ZiJIIvnopiv2",
    "outputId": "a0fdada3-ce22-4616-b60b-5c078bc023db"
   },
   "outputs": [
    {
     "data": {
      "image/png": "[encoded data removed]",
      "text/plain": [
       "<Figure size 1368x432 with 1 Axes>"
      ]
     },
     "metadata": {
      "needs_background": "light"
     },
     "output_type": "display_data"
    }
   ],
   "source": [
    "#Visualize positive ASD positive Adults based on top 15 countries\n",
    "plt.figure(figsize=(19,6))\n",
    "sns.countplot(x='country_of_res',data = data, order= data['country_of_res'].value_counts().index[:15],hue='gender',palette='viridis')\n",
    "plt.title('Positive ASD: Country wise distribution')\n",
    "plt.xlabel('Countries')\n",
    "plt.tight_layout()"
   ]
  },
  {
   "cell_type": "code",
   "execution_count": 17,
   "metadata": {
    "colab": {
     "base_uri": "https://localhost:8080/"
    },
    "id": "8asKk6c4uv1z",
    "outputId": "cd905d21-2446-421f-9750-8431f87db87f"
   },
   "outputs": [
    {
     "data": {
      "text/plain": [
       "White-European    381\n",
       "Others            201\n",
       "Asian             185\n",
       "Middle Eastern    128\n",
       "Black              65\n",
       "South Asian        60\n",
       "Latino             33\n",
       "Hispanic           25\n",
       "Pasifika           14\n",
       "Turkish             8\n",
       "Name: ethnicity, dtype: int64"
      ]
     },
     "execution_count": 17,
     "metadata": {},
     "output_type": "execute_result"
    }
   ],
   "source": [
    "#Ethnicity value counts\n",
    "data.ethnicity.fillna('Others',inplace=True)\n",
    "data.ethnicity.replace(\"others\",'Others',inplace=True)\n",
    "data.ethnicity.replace(\"'Middle Eastern '\",'Middle Eastern',inplace=True)\n",
    "data.ethnicity.replace(\"Middle Eastern '\",'Middle Eastern',inplace=True)\n",
    "data.ethnicity.replace(\"'South Asian'\",'South Asian',inplace=True)\n",
    "data['ethnicity'].value_counts()"
   ]
  },
  {
   "cell_type": "code",
   "execution_count": 18,
   "metadata": {
    "colab": {
     "base_uri": "https://localhost:8080/",
     "height": 392
    },
    "id": "6sOc4Bji7Tm-",
    "outputId": "bb498592-0796-445a-c37d-14818fb0227b"
   },
   "outputs": [
    {
     "data": {
      "text/plain": [
       "(array([0, 1, 2, 3, 4, 5, 6, 7, 8, 9]),\n",
       " [Text(0, 0, 'Others'),\n",
       "  Text(1, 0, 'Middle Eastern'),\n",
       "  Text(2, 0, 'White-European'),\n",
       "  Text(3, 0, 'Black'),\n",
       "  Text(4, 0, 'South Asian'),\n",
       "  Text(5, 0, 'Asian'),\n",
       "  Text(6, 0, 'Pasifika'),\n",
       "  Text(7, 0, 'Hispanic'),\n",
       "  Text(8, 0, 'Turkish'),\n",
       "  Text(9, 0, 'Latino')])"
      ]
     },
     "execution_count": 18,
     "metadata": {},
     "output_type": "execute_result"
    },
    {
     "data": {
      "image/png": "[encoded data removed]",
      "text/plain": [
       "<Figure size 432x288 with 1 Axes>"
      ]
     },
     "metadata": {
      "needs_background": "light"
     },
     "output_type": "display_data"
    }
   ],
   "source": [
    "#Plot for the Ethnicity\n",
    "sns.countplot(data['ethnicity'])\n",
    "plt.xticks(rotation=90)"
   ]
  },
  {
   "cell_type": "code",
   "execution_count": 19,
   "metadata": {
    "colab": {
     "base_uri": "https://localhost:8080/",
     "height": 441
    },
    "id": "9mCRTtwfu8yk",
    "outputId": "f51f70e0-eaa8-4fa0-f681-7c7c507088a9"
   },
   "outputs": [
    {
     "data": {
      "image/png": "[encoded data removed]",
      "text/plain": [
       "<Figure size 1080x432 with 1 Axes>"
      ]
     },
     "metadata": {
      "needs_background": "light"
     },
     "output_type": "display_data"
    }
   ],
   "source": [
    "#Positive ASD of White and European Ethnicities country wise distribution\n",
    "plt.figure(figsize=(15,6))\n",
    "sns.countplot(x='country_of_res',data = data[data['ethnicity']=='White-European'], order = data[data['ethnicity']=='White-European']['country_of_res'].value_counts().index[:10],palette='viridis')\n",
    "plt.title('Positive ASD of White and European Ethnicities country wise distribution')\n",
    "plt.xlabel('Countries')\n",
    "plt.tight_layout()"
   ]
  },
  {
   "cell_type": "markdown",
   "metadata": {
    "id": "gDz9PtvdvHjG"
   },
   "source": [
    "\n",
    "\n",
    "> From the above code we are considering both country and ethnicity because the reports suggests so.\n",
    "\n"
   ]
  },
  {
   "cell_type": "code",
   "execution_count": 20,
   "metadata": {
    "colab": {
     "base_uri": "https://localhost:8080/",
     "height": 296
    },
    "id": "Ly3QlsJf6sEs",
    "outputId": "7e5b2966-c15b-4f62-fd64-9e5a6ce0a791"
   },
   "outputs": [
    {
     "data": {
      "text/plain": [
       "<AxesSubplot:xlabel='jaundice', ylabel='count'>"
      ]
     },
     "execution_count": 20,
     "metadata": {},
     "output_type": "execute_result"
    },
    {
     "data": {
      "image/png": "[encoded data removed]",
      "text/plain": [
       "<Figure size 432x288 with 1 Axes>"
      ]
     },
     "metadata": {
      "needs_background": "light"
     },
     "output_type": "display_data"
    }
   ],
   "source": [
    "#Countplot of ASD positive born with Jaundice based on gender \n",
    "sns.countplot(x = 'jaundice', hue = 'gender', data = data)"
   ]
  },
  {
   "cell_type": "code",
   "execution_count": 21,
   "metadata": {
    "colab": {
     "base_uri": "https://localhost:8080/",
     "height": 367
    },
    "id": "wKjaPp3P8tsM",
    "outputId": "ae7cc23e-ff80-4ad0-a7b5-c0fc897680a0"
   },
   "outputs": [
    {
     "data": {
      "text/plain": [
       "Text(0.5, 0, 'Relatives with ASD')"
      ]
     },
     "execution_count": 21,
     "metadata": {},
     "output_type": "execute_result"
    },
    {
     "data": {
      "image/png": "[encoded data removed]",
      "text/plain": [
       "<Figure size 720x360 with 1 Axes>"
      ]
     },
     "metadata": {
      "needs_background": "light"
     },
     "output_type": "display_data"
    }
   ],
   "source": [
    "#Visualize the distribution of autism in family within different ethnicity\n",
    "data1 = data[data['class']=='YES']\n",
    "plt.figure(figsize = (10,5))\n",
    "sns.countplot(x = 'autism', data = data1, hue = 'ethnicity', palette = 'rainbow')\n",
    "plt.title('Positive ASD relatives with Autism distribution for different ethnicities')\n",
    "plt.xlabel('Relatives with ASD')"
   ]
  },
  {
   "cell_type": "code",
   "execution_count": null,
   "metadata": {},
   "outputs": [],
   "source": []
  },
  {
   "cell_type": "markdown",
   "metadata": {},
   "source": [
    "# **Preprocessing**"
   ]
  },
  {
   "cell_type": "code",
   "execution_count": 22,
   "metadata": {},
   "outputs": [],
   "source": [
    "data = pd.read_csv(\"input.csv\")\n",
    "data1 = data.replace('?', np.nan)\n",
    "data1.dropna(axis=0, inplace=True)\n",
    "data1.to_csv(\"childDataNaAge.csv\", sep=\",\", index=False)"
   ]
  },
  {
   "cell_type": "code",
   "execution_count": 23,
   "metadata": {},
   "outputs": [],
   "source": [
    "def test_process(raw_data):\n",
    "    d1= raw_data.replace({'gender': 'f'}, 1).replace({'gender': 'm'}, 0). \\\n",
    "    replace({'jaundice': 'yes'}, 1).replace({'jaundice': 'no'}, 0). \\\n",
    "    replace({'autism': 'yes'}, 1).replace({'autism': 'no'}, 0)\n",
    "    return d1\n",
    "\n",
    "def train_process(raw_data):\n",
    "    d1= raw_data.replace({'gender': 'f'}, 1).replace({'gender': 'm'}, 0). \\\n",
    "    replace({'jaundice': 'yes'}, 1).replace({'jaundice': 'no'}, 0). \\\n",
    "    replace({'autism': 'yes'}, 1).replace({'autism': 'no'}, 0). \\\n",
    "    replace({'class': 'YES'}, 1).replace({'class': 'NO'}, 0)\n",
    "    \n",
    "    final_data = d1.drop(['ethnicity'], 1).drop(['country_of_res'], 1).drop(['used_app_before'], 1). \\\n",
    "    drop(['age_desc'], 1).drop(['relation'], 1)\n",
    "    \n",
    "    return final_data"
   ]
  },
  {
   "cell_type": "code",
   "execution_count": 24,
   "metadata": {},
   "outputs": [],
   "source": [
    "data = pd.read_csv(\"childDataNaAge.csv\")\n",
    "data2 = data.replace({'gender': 'f'}, 1).replace({'gender': 'm'}, 0). \\\n",
    "    replace({'jaundice': 'yes'}, 1).replace({'jaundice': 'no'}, 0). \\\n",
    "    replace({'autism': 'yes'}, 1).replace({'autism': 'no'}, 0). \\\n",
    "    replace({'class': 'YES'}, 1).replace({'class': 'NO'}, 0)"
   ]
  },
  {
   "cell_type": "code",
   "execution_count": 25,
   "metadata": {},
   "outputs": [],
   "source": [
    "data3 = data2.drop(['ethnicity'], 1).drop(['country_of_res'], 1).drop(['used_app_before'], 1). \\\n",
    "    drop(['age_desc'], 1).drop(['relation'], 1).drop(['result'], 1).drop(['gender'], 1).drop(['jaundice'], 1).drop(\n",
    "    ['autism'], 1).drop(['age'], 1)\n",
    "data3.to_csv(\"childAllAs.csv\", sep=\",\", index=False)"
   ]
  },
  {
   "cell_type": "code",
   "execution_count": 26,
   "metadata": {},
   "outputs": [
    {
     "name": "stdout",
     "output_type": "stream",
     "text": [
      "Index(['age', 'gender', 'jaundice', 'autism', 'A1', 'A2', 'A3', 'A4', 'A5',\n",
      "       'A6', 'A7', 'A8', 'A9', 'A10', 'result', 'class'],\n",
      "      dtype='object')\n"
     ]
    }
   ],
   "source": [
    "data4 = data2.drop(['ethnicity'], 1).drop(['country_of_res'], 1).drop(['used_app_before'], 1). \\\n",
    "    drop(['age_desc'], 1).drop(['relation'], 1)  # .drop(['age'], 1)#.drop(['result'], 1)\n",
    "data4.to_csv(\"childDataNaBinaryNAgeWResult.csv\", sep=\",\", index=False)\n",
    "print(data4.columns)"
   ]
  },
  {
   "cell_type": "code",
   "execution_count": 27,
   "metadata": {},
   "outputs": [],
   "source": [
    "data5 = data4[['A5', 'A6', 'A9', 'A10', 'age', 'gender', 'jaundice', 'autism', 'class']]\n",
    "# data5 = data4[['A5', 'A6', 'A9', 'A10', 'class']]\n",
    "data5.to_csv(\"childDataNaAgeNResult.csv\", sep=\",\", index=False)\n"
   ]
  },
  {
   "cell_type": "code",
   "execution_count": null,
   "metadata": {},
   "outputs": [],
   "source": []
  },
  {
   "cell_type": "markdown",
   "metadata": {},
   "source": [
    "# **Model Implementation**"
   ]
  },
  {
   "cell_type": "code",
   "execution_count": 28,
   "metadata": {},
   "outputs": [],
   "source": [
    "from sklearn.model_selection import train_test_split, cross_val_score\n",
    "from sklearn.metrics import classification_report, confusion_matrix\n",
    "import graphviz\n",
    "\n",
    "import time\n",
    "\n",
    "from sklearn.metrics import roc_auc_score, roc_curve, confusion_matrix, accuracy_score\n",
    "from mlxtend.plotting import plot_confusion_matrix\n",
    "\n",
    "\n",
    "\n",
    "\n",
    "from sklearn import tree\n",
    "from sklearn.naive_bayes import MultinomialNB\n",
    "from sklearn.preprocessing import StandardScaler\n",
    "from sklearn.linear_model import LogisticRegression\n",
    "from sklearn.svm import SVC\n",
    "from sklearn.neural_network import MLPClassifier\n",
    "from sklearn.neighbors import KNeighborsClassifier"
   ]
  },
  {
   "cell_type": "code",
   "execution_count": 29,
   "metadata": {},
   "outputs": [
    {
     "name": "stdout",
     "output_type": "stream",
     "text": [
      "[6 0 0 0 1 1 0 0 1 1 0 1 0 0 5]\n"
     ]
    }
   ],
   "source": [
    "data = pd.read_csv(\"childDataNaBinaryNAgeWResult.csv\")\n",
    "\n",
    "dataX = data.drop(['class'], 1)\n",
    "dataY = data['class']\n",
    "print(dataX.values[0])\n",
    "x_train, x_test, y_train, y_test = train_test_split(dataX, dataY, test_size = 0.2, random_state = 40)\n"
   ]
  },
  {
   "cell_type": "markdown",
   "metadata": {},
   "source": [
    "### *Decision Tree Classifier*"
   ]
  },
  {
   "cell_type": "code",
   "execution_count": 30,
   "metadata": {
    "scrolled": true
   },
   "outputs": [
    {
     "name": "stdout",
     "output_type": "stream",
     "text": [
      "1.0\n",
      "              precision    recall  f1-score   support\n",
      "\n",
      "           0       1.00      1.00      1.00       128\n",
      "           1       1.00      1.00      1.00        63\n",
      "\n",
      "    accuracy                           1.00       191\n",
      "   macro avg       1.00      1.00      1.00       191\n",
      "weighted avg       1.00      1.00      1.00       191\n",
      "\n",
      "[[128   0]\n",
      " [  0  63]]\n"
     ]
    }
   ],
   "source": [
    "dcTree = tree.DecisionTreeClassifier(criterion='entropy')\n",
    "start = time.time()\n",
    "dcTree = dcTree.fit(x_train, y_train)\n",
    "stop = time.time()\n",
    "dcTree_time = f\"{stop - start}\"\n",
    "\n",
    "dcTree_prediction = dcTree.predict(x_test)\n",
    "dcTree_accuracy = dcTree.score(x_test, y_test)\n",
    "\n",
    "print(dcTree_accuracy)\n",
    "print(classification_report(y_test, dcTree_prediction))\n",
    "cm_dcTree = confusion_matrix(y_test, dcTree_prediction)\n",
    "print(cm_dcTree)\n",
    "TN_dcTree, FP_dcTree, FN_dcTree, TP_dcTree = cm_dcTree.ravel()"
   ]
  },
  {
   "cell_type": "code",
   "execution_count": 31,
   "metadata": {
    "colab": {
     "base_uri": "https://localhost:8080/"
    },
    "id": "sb0djNlKMsIg",
    "outputId": "5d8f7aa5-d3a6-476f-940c-bc8ef1799ef5",
    "scrolled": true
   },
   "outputs": [
    {
     "name": "stdout",
     "output_type": "stream",
     "text": [
      "AUC Score: 1.0\n"
     ]
    }
   ],
   "source": [
    "#AUC Score\n",
    "auc_score_dcTree = roc_auc_score(y_test, dcTree.predict(x_test))\n",
    "fpr_dcTree, tpr_dcTree, thresholds_dcTree = roc_curve(y_test, dcTree.predict_proba(x_test)[:,1])\n",
    "print(\"AUC Score:\",auc_score_dcTree)"
   ]
  },
  {
   "cell_type": "code",
   "execution_count": 32,
   "metadata": {},
   "outputs": [
    {
     "data": {
      "image/png": "[encoded data removed]",
      "text/plain": [
       "<Figure size 432x288 with 2 Axes>"
      ]
     },
     "metadata": {
      "needs_background": "light"
     },
     "output_type": "display_data"
    }
   ],
   "source": [
    "#Confusion Matrix\n",
    "cm_dcTree = confusion_matrix(y_test, dcTree_prediction)\n",
    "\n",
    "#Plotting the confusion matrix\n",
    "ax = sns.heatmap(cm_dcTree, annot=True, annot_kws={\"fontsize\":18}, cmap='PuBu', fmt='.3g', linewidths=1, linecolor='black')\n",
    "ax.set_title('Confusion Matrix');\n",
    "ax.set_xlabel('Predicted Values')\n",
    "ax.set_ylabel('Actual Values ');\n",
    "\n",
    "## Ticket labels - List must be in alphabetical order\n",
    "ax.xaxis.set_ticklabels(['False','True'])\n",
    "ax.yaxis.set_ticklabels(['False','True'])\n",
    "\n",
    "## Display the visualization of the Confusion Matrix.\n",
    "plt.show()"
   ]
  },
  {
   "cell_type": "code",
   "execution_count": 33,
   "metadata": {},
   "outputs": [
    {
     "name": "stdout",
     "output_type": "stream",
     "text": [
      "Sensitivity: 1.0\n",
      "Specificity: 1.0\n",
      "Precision: 1.0\n",
      "Accuracy: 1.0\n"
     ]
    }
   ],
   "source": [
    "# 1.  Sensitivity\n",
    "sensitivity_dcTree = TP_dcTree / float(TP_dcTree + FN_dcTree)\n",
    "print(\"Sensitivity:\",sensitivity_dcTree)\n",
    "\n",
    "# 2.  Specificity\n",
    "specificity_dcTree = TN_dcTree / float(TN_dcTree + FP_dcTree)\n",
    "print(\"Specificity:\",specificity_dcTree)\n",
    "\n",
    "# 3.  Precision\n",
    "precision_dcTree = TP_dcTree / float(TP_dcTree + FP_dcTree)\n",
    "print(\"Precision:\",precision_dcTree)\n",
    "\n",
    "# 4.  Accuracy\n",
    "accuracy_dcTree = (TP_dcTree + TN_dcTree) / float(TP_dcTree + TN_dcTree + FN_dcTree + FP_dcTree)\n",
    "print(\"Accuracy:\",accuracy_dcTree)"
   ]
  },
  {
   "cell_type": "code",
   "execution_count": null,
   "metadata": {},
   "outputs": [],
   "source": []
  },
  {
   "cell_type": "markdown",
   "metadata": {},
   "source": [
    "\n",
    "### *Multinomial Naive Bayes*"
   ]
  },
  {
   "cell_type": "code",
   "execution_count": 34,
   "metadata": {
    "scrolled": true
   },
   "outputs": [
    {
     "name": "stdout",
     "output_type": "stream",
     "text": [
      "0.7643979057591623\n",
      "              precision    recall  f1-score   support\n",
      "\n",
      "           0       0.93      0.70      0.80       128\n",
      "           1       0.60      0.89      0.71        63\n",
      "\n",
      "    accuracy                           0.76       191\n",
      "   macro avg       0.76      0.80      0.76       191\n",
      "weighted avg       0.82      0.76      0.77       191\n",
      "\n",
      "[[90 38]\n",
      " [ 7 56]]\n"
     ]
    }
   ],
   "source": [
    "NB = MultinomialNB(alpha = 1, class_prior = None, fit_prior = False)\n",
    "scores = cross_val_score(NB, x_train, y_train, cv = 10)\n",
    "#print scores.mean(), scores.std()*2\n",
    "start = time.time()\n",
    "NB.fit(x_train, y_train)\n",
    "stop = time.time()\n",
    "NB_time = f\"{stop - start}\"\n",
    "\n",
    "NB_prediction = NB.predict(x_test)\n",
    "NB_accuracy = NB.score(x_test, y_test)\n",
    "\n",
    "print(NB_accuracy)\n",
    "print(classification_report(y_test, NB_prediction))\n",
    "cm_NB = confusion_matrix(y_test, NB_prediction)\n",
    "print(cm_NB)\n",
    "TN_NB, FP_NB, FN_NB, TP_NB = cm_NB.ravel()"
   ]
  },
  {
   "cell_type": "code",
   "execution_count": 35,
   "metadata": {
    "colab": {
     "base_uri": "https://localhost:8080/"
    },
    "id": "sb0djNlKMsIg",
    "outputId": "5d8f7aa5-d3a6-476f-940c-bc8ef1799ef5",
    "scrolled": true
   },
   "outputs": [
    {
     "name": "stdout",
     "output_type": "stream",
     "text": [
      "AUC Score: 0.7960069444444444\n"
     ]
    }
   ],
   "source": [
    "#AUC Score\n",
    "auc_score_NB = roc_auc_score(y_test, NB.predict(x_test))\n",
    "fpr_NB, tpr_NB, thresholds_NB = roc_curve(y_test, NB.predict_proba(x_test)[:,1])\n",
    "print(\"AUC Score:\",auc_score_NB)"
   ]
  },
  {
   "cell_type": "code",
   "execution_count": 36,
   "metadata": {},
   "outputs": [
    {
     "data": {
      "image/png": "[encoded data removed]",
      "text/plain": [
       "<Figure size 432x288 with 2 Axes>"
      ]
     },
     "metadata": {
      "needs_background": "light"
     },
     "output_type": "display_data"
    }
   ],
   "source": [
    "#Confusion Matrix\n",
    "cm_NB = confusion_matrix(y_test, NB_prediction)\n",
    "\n",
    "#Plotting the confusion matrix\n",
    "ax = sns.heatmap(cm_NB, annot=True, annot_kws={\"fontsize\":18}, cmap='PuBu', fmt='.3g', linewidths=1, linecolor='black')\n",
    "ax.set_title('Confusion Matrix');\n",
    "ax.set_xlabel('Predicted Values')\n",
    "ax.set_ylabel('Actual Values ');\n",
    "\n",
    "## Ticket labels - List must be in alphabetical order\n",
    "ax.xaxis.set_ticklabels(['False','True'])\n",
    "ax.yaxis.set_ticklabels(['False','True'])\n",
    "\n",
    "## Display the visualization of the Confusion Matrix.\n",
    "plt.show()"
   ]
  },
  {
   "cell_type": "code",
   "execution_count": 37,
   "metadata": {},
   "outputs": [
    {
     "name": "stdout",
     "output_type": "stream",
     "text": [
      "Sensitivity: 0.8888888888888888\n",
      "Specificity: 0.703125\n",
      "Precision: 0.5957446808510638\n",
      "Accuracy: 0.7643979057591623\n"
     ]
    }
   ],
   "source": [
    "# 1.  Sensitivity\n",
    "sensitivity_NB = TP_NB / float(TP_NB + FN_NB)\n",
    "print(\"Sensitivity:\",sensitivity_NB)\n",
    "\n",
    "# 2.  Specificity\n",
    "specificity_NB = TN_NB / float(TN_NB + FP_NB)\n",
    "print(\"Specificity:\",specificity_NB)\n",
    "\n",
    "# 3.  Precision\n",
    "precision_NB = TP_NB / float(TP_NB + FP_NB)\n",
    "print(\"Precision:\",precision_NB)\n",
    "\n",
    "# 4.  Accuracy\n",
    "accuracy_NB = (TP_NB + TN_NB) / float(TP_NB + TN_NB + FN_NB + FP_NB)\n",
    "print(\"Accuracy:\",accuracy_NB)"
   ]
  },
  {
   "cell_type": "code",
   "execution_count": 38,
   "metadata": {},
   "outputs": [],
   "source": [
    "scaler = StandardScaler()\n",
    "###compute the mean and std to be used for later scaling\n",
    "scaler.fit(x_train)\n",
    "\n",
    "###Perform standardization by centering and scaling\n",
    "x_train = scaler.transform(x_train)\n",
    "x_test = scaler.transform(x_test)"
   ]
  },
  {
   "cell_type": "code",
   "execution_count": null,
   "metadata": {},
   "outputs": [],
   "source": []
  },
  {
   "cell_type": "markdown",
   "metadata": {},
   "source": [
    "### *Logistic Regression*"
   ]
  },
  {
   "cell_type": "code",
   "execution_count": 39,
   "metadata": {
    "scrolled": true
   },
   "outputs": [
    {
     "name": "stdout",
     "output_type": "stream",
     "text": [
      "1.0\n",
      "              precision    recall  f1-score   support\n",
      "\n",
      "           0       1.00      1.00      1.00       128\n",
      "           1       1.00      1.00      1.00        63\n",
      "\n",
      "    accuracy                           1.00       191\n",
      "   macro avg       1.00      1.00      1.00       191\n",
      "weighted avg       1.00      1.00      1.00       191\n",
      "\n",
      "[[128   0]\n",
      " [  0  63]]\n"
     ]
    }
   ],
   "source": [
    "LR = LogisticRegression(penalty = 'l2')\n",
    "scores = cross_val_score(LR, x_train, y_train, cv = 10)\n",
    "#print scores.mean(), scores.std()*2\n",
    "start = time.time()\n",
    "LR.fit(x_train, y_train)\n",
    "stop = time.time()\n",
    "LR_time = f\"{stop - start}\"\n",
    "LR_prediction = LR.predict(x_test)\n",
    "LR_accuracy = LR.score(x_test, y_test)\n",
    "\n",
    "print(LR_accuracy)\n",
    "print(classification_report(y_test, LR_prediction))\n",
    "cm_LR = confusion_matrix(y_test, LR_prediction)\n",
    "print(cm_LR)\n",
    "TN_LR, FP_LR, FN_LR, TP_LR = cm_LR.ravel()"
   ]
  },
  {
   "cell_type": "code",
   "execution_count": 40,
   "metadata": {
    "colab": {
     "base_uri": "https://localhost:8080/"
    },
    "id": "sb0djNlKMsIg",
    "outputId": "5d8f7aa5-d3a6-476f-940c-bc8ef1799ef5",
    "scrolled": true
   },
   "outputs": [
    {
     "name": "stdout",
     "output_type": "stream",
     "text": [
      "AUC Score: 1.0\n"
     ]
    }
   ],
   "source": [
    "#AUC Score\n",
    "auc_score_LR = roc_auc_score(y_test, LR.predict(x_test))\n",
    "fpr_LR, tpr_LR, thresholds_LR = roc_curve(y_test, LR.predict_proba(x_test)[:,1])\n",
    "print(\"AUC Score:\",auc_score_LR)"
   ]
  },
  {
   "cell_type": "code",
   "execution_count": 41,
   "metadata": {},
   "outputs": [
    {
     "data": {
      "image/png": "[encoded data removed]",
      "text/plain": [
       "<Figure size 432x288 with 2 Axes>"
      ]
     },
     "metadata": {
      "needs_background": "light"
     },
     "output_type": "display_data"
    }
   ],
   "source": [
    "#Confusion Matrix\n",
    "cm_LR = confusion_matrix(y_test, LR_prediction)\n",
    "\n",
    "#Plotting the confusion matrix\n",
    "ax = sns.heatmap(cm_LR, annot=True, annot_kws={\"fontsize\":18}, cmap='PuBu', fmt='.3g', linewidths=1, linecolor='black')\n",
    "ax.set_title('Confusion Matrix');\n",
    "ax.set_xlabel('Predicted Values')\n",
    "ax.set_ylabel('Actual Values ');\n",
    "\n",
    "## Ticket labels - List must be in alphabetical order\n",
    "ax.xaxis.set_ticklabels(['False','True'])\n",
    "ax.yaxis.set_ticklabels(['False','True'])\n",
    "\n",
    "## Display the visualization of the Confusion Matrix.\n",
    "plt.show()"
   ]
  },
  {
   "cell_type": "code",
   "execution_count": 42,
   "metadata": {},
   "outputs": [
    {
     "name": "stdout",
     "output_type": "stream",
     "text": [
      "Sensitivity: 1.0\n",
      "Specificity: 1.0\n",
      "Precision: 1.0\n",
      "Accuracy: 1.0\n"
     ]
    }
   ],
   "source": [
    "# 1.  Sensitivity\n",
    "sensitivity_LR = TP_LR / float(TP_LR + FN_LR)\n",
    "print(\"Sensitivity:\",sensitivity_LR)\n",
    "\n",
    "# 2.  Specificity\n",
    "specificity_LR = TN_LR / float(TN_LR + FP_LR)\n",
    "print(\"Specificity:\",specificity_LR)\n",
    "\n",
    "# 3.  Precision\n",
    "precision_LR = TP_LR / float(TP_LR + FP_LR)\n",
    "print(\"Precision:\",precision_LR)\n",
    "\n",
    "# 4.  Accuracy\n",
    "accuracy_LR = (TP_LR + TN_LR) / float(TP_LR + TN_LR + FN_LR + FP_LR)\n",
    "print(\"Accuracy:\",accuracy_LR)"
   ]
  },
  {
   "cell_type": "code",
   "execution_count": null,
   "metadata": {},
   "outputs": [],
   "source": []
  },
  {
   "cell_type": "markdown",
   "metadata": {},
   "source": [
    "### *Support Vector Machine*"
   ]
  },
  {
   "cell_type": "code",
   "execution_count": 43,
   "metadata": {
    "scrolled": true
   },
   "outputs": [
    {
     "name": "stdout",
     "output_type": "stream",
     "text": [
      "0.9633507853403142\n",
      "              precision    recall  f1-score   support\n",
      "\n",
      "           0       0.98      0.97      0.97       128\n",
      "           1       0.94      0.95      0.94        63\n",
      "\n",
      "    accuracy                           0.96       191\n",
      "   macro avg       0.96      0.96      0.96       191\n",
      "weighted avg       0.96      0.96      0.96       191\n",
      "\n",
      "[[124   4]\n",
      " [  3  60]]\n"
     ]
    }
   ],
   "source": [
    "svm = SVC(C=1, kernel = 'linear', degree = 1, cache_size = 200, max_iter = 100000, probability=True)\n",
    "svm = SVC(C=1, kernel = 'poly', degree = 3, cache_size = 200, max_iter = 100000, probability=True) ##this is for A3,A4,A7,A9,A10 only\n",
    "scores = cross_val_score(svm, x_train, y_train, cv = 10)\n",
    "#print scores.mean(), scores.std()*2\n",
    "start = time.time()\n",
    "svm.fit(x_train, y_train)\n",
    "stop = time.time()\n",
    "svm_time = f\"{stop - start}\"\n",
    "svm_prediction = svm.predict(x_test)\n",
    "svm_accuracy = svm.score(x_test, y_test)\n",
    "\n",
    "print(svm_accuracy)\n",
    "print(classification_report(y_test, svm_prediction))\n",
    "cm_svm = confusion_matrix(y_test, svm_prediction)\n",
    "print(cm_svm)\n",
    "TN_svm, FP_svm, FN_svm, TP_svm = cm_svm.ravel()"
   ]
  },
  {
   "cell_type": "code",
   "execution_count": 44,
   "metadata": {
    "colab": {
     "base_uri": "https://localhost:8080/"
    },
    "id": "sb0djNlKMsIg",
    "outputId": "5d8f7aa5-d3a6-476f-940c-bc8ef1799ef5",
    "scrolled": true
   },
   "outputs": [
    {
     "name": "stdout",
     "output_type": "stream",
     "text": [
      "AUC Score: 0.9605654761904762\n"
     ]
    }
   ],
   "source": [
    "#AUC Score\n",
    "auc_score_svm = roc_auc_score(y_test, svm.predict(x_test))\n",
    "fpr_svm, tpr_svm, thresholds_svm = roc_curve(y_test, svm.predict_proba(x_test)[:,1])\n",
    "print(\"AUC Score:\",auc_score_svm)"
   ]
  },
  {
   "cell_type": "code",
   "execution_count": 45,
   "metadata": {},
   "outputs": [
    {
     "data": {
      "image/png": "[encoded data removed]",
      "text/plain": [
       "<Figure size 432x288 with 2 Axes>"
      ]
     },
     "metadata": {
      "needs_background": "light"
     },
     "output_type": "display_data"
    }
   ],
   "source": [
    "#Confusion Matrix\n",
    "cm_svm = confusion_matrix(y_test, svm_prediction)\n",
    "\n",
    "#Plotting the confusion matrix\n",
    "ax = sns.heatmap(cm_svm, annot=True, annot_kws={\"fontsize\":18}, cmap='PuBu', fmt='.3g', linewidths=1, linecolor='black')\n",
    "ax.set_title('Confusion Matrix');\n",
    "ax.set_xlabel('Predicted Values')\n",
    "ax.set_ylabel('Actual Values ');\n",
    "\n",
    "## Ticket labels - List must be in alphabetical order\n",
    "ax.xaxis.set_ticklabels(['False','True'])\n",
    "ax.yaxis.set_ticklabels(['False','True'])\n",
    "\n",
    "## Display the visualization of the Confusion Matrix.\n",
    "plt.show()"
   ]
  },
  {
   "cell_type": "code",
   "execution_count": 46,
   "metadata": {},
   "outputs": [
    {
     "name": "stdout",
     "output_type": "stream",
     "text": [
      "Sensitivity: 0.9523809523809523\n",
      "Specificity: 0.96875\n",
      "Precision: 0.9375\n",
      "Accuracy: 0.9633507853403142\n"
     ]
    }
   ],
   "source": [
    "\n",
    "# 1.  Sensitivity\n",
    "sensitivity_svm = TP_svm / float(TP_svm + FN_svm)\n",
    "print(\"Sensitivity:\",sensitivity_svm)\n",
    "\n",
    "# 2.  Specificity\n",
    "specificity_svm = TN_svm / float(TN_svm + FP_svm)\n",
    "print(\"Specificity:\",specificity_svm)\n",
    "\n",
    "# 3.  Precision\n",
    "precision_svm = TP_svm / float(TP_svm + FP_svm)\n",
    "print(\"Precision:\",precision_svm)\n",
    "\n",
    "# 4.  Accuracy\n",
    "accuracy_svm = (TP_svm + TN_svm) / float(TP_svm + TN_svm + FN_svm + FP_svm)\n",
    "print(\"Accuracy:\",accuracy_svm)"
   ]
  },
  {
   "cell_type": "code",
   "execution_count": null,
   "metadata": {},
   "outputs": [],
   "source": []
  },
  {
   "cell_type": "markdown",
   "metadata": {},
   "source": [
    "### *Multi Layer Perceptron Classifier*"
   ]
  },
  {
   "cell_type": "code",
   "execution_count": 47,
   "metadata": {
    "scrolled": true
   },
   "outputs": [
    {
     "name": "stdout",
     "output_type": "stream",
     "text": [
      "1.0\n",
      "              precision    recall  f1-score   support\n",
      "\n",
      "           0       1.00      1.00      1.00       128\n",
      "           1       1.00      1.00      1.00        63\n",
      "\n",
      "    accuracy                           1.00       191\n",
      "   macro avg       1.00      1.00      1.00       191\n",
      "weighted avg       1.00      1.00      1.00       191\n",
      "\n",
      "[[128   0]\n",
      " [  0  63]]\n"
     ]
    }
   ],
   "source": [
    "NN = MLPClassifier(hidden_layer_sizes = (10), max_iter = 1000, learning_rate_init = 0.05, momentum = 0.1)\n",
    "scores = cross_val_score(NN, x_train, y_train, cv = 10)\n",
    "#print scores.mean(), scores.std()*2\n",
    "start = time.time()\n",
    "NN.fit(x_train, y_train)\n",
    "stop = time.time()\n",
    "NN_time = f\"{stop - start}\"\n",
    "NN_prediction = NN.predict(x_test)\n",
    "NN_accuracy = NN.score(x_test, y_test)\n",
    "\n",
    "print(NN_accuracy)\n",
    "print(classification_report(y_test, NN_prediction))\n",
    "cm_NN = confusion_matrix(y_test, NN_prediction)\n",
    "print(cm_NN)\n",
    "TN_NN, FP_NN, FN_NN, TP_NN = cm_NN.ravel()"
   ]
  },
  {
   "cell_type": "code",
   "execution_count": 48,
   "metadata": {
    "colab": {
     "base_uri": "https://localhost:8080/"
    },
    "id": "sb0djNlKMsIg",
    "outputId": "5d8f7aa5-d3a6-476f-940c-bc8ef1799ef5",
    "scrolled": true
   },
   "outputs": [
    {
     "name": "stdout",
     "output_type": "stream",
     "text": [
      "AUC Score: 1.0\n"
     ]
    }
   ],
   "source": [
    "#AUC Score\n",
    "auc_score_NN = roc_auc_score(y_test, NN.predict(x_test))\n",
    "fpr_NN, tpr_NN, thresholds_NN = roc_curve(y_test, NN.predict_proba(x_test)[:,1])\n",
    "print(\"AUC Score:\",auc_score_NN)"
   ]
  },
  {
   "cell_type": "code",
   "execution_count": 49,
   "metadata": {},
   "outputs": [
    {
     "data": {
      "image/png": "[encoded data removed]",
      "text/plain": [
       "<Figure size 432x288 with 2 Axes>"
      ]
     },
     "metadata": {
      "needs_background": "light"
     },
     "output_type": "display_data"
    }
   ],
   "source": [
    "#Confusion Matrix\n",
    "cm_NN = confusion_matrix(y_test, NN_prediction)\n",
    "\n",
    "#Plotting the confusion matrix\n",
    "ax = sns.heatmap(cm_NN, annot=True, annot_kws={\"fontsize\":18}, cmap='PuBu', fmt='.3g', linewidths=1, linecolor='black')\n",
    "ax.set_title('Confusion Matrix');\n",
    "ax.set_xlabel('Predicted Values')\n",
    "ax.set_ylabel('Actual Values ');\n",
    "\n",
    "## Ticket labels - List must be in alphabetical order\n",
    "ax.xaxis.set_ticklabels(['False','True'])\n",
    "ax.yaxis.set_ticklabels(['False','True'])\n",
    "\n",
    "## Display the visualization of the Confusion Matrix.\n",
    "plt.show()"
   ]
  },
  {
   "cell_type": "code",
   "execution_count": 50,
   "metadata": {},
   "outputs": [
    {
     "name": "stdout",
     "output_type": "stream",
     "text": [
      "Sensitivity: 1.0\n",
      "Specificity: 1.0\n",
      "Precision: 1.0\n",
      "Accuracy: 1.0\n"
     ]
    }
   ],
   "source": [
    "# 1.  Sensitivity\n",
    "sensitivity_NN = TP_NN / float(TP_NN + FN_NN)\n",
    "print(\"Sensitivity:\",sensitivity_NN)\n",
    "\n",
    "# 2.  Specificity\n",
    "specificity_NN = TN_NN / float(TN_NN + FP_NN)\n",
    "print(\"Specificity:\",specificity_NN)\n",
    "\n",
    "# 3.  Precision\n",
    "precision_NN = TP_NN / float(TP_NN + FP_NN)\n",
    "print(\"Precision:\",precision_NN)\n",
    "\n",
    "# 4.  Accuracy\n",
    "accuracy_NN = (TP_NN + TN_NN) / float(TP_NN + TN_NN + FN_NN + FP_NN)\n",
    "print(\"Accuracy:\",accuracy_NN)"
   ]
  },
  {
   "cell_type": "code",
   "execution_count": null,
   "metadata": {},
   "outputs": [],
   "source": []
  },
  {
   "cell_type": "markdown",
   "metadata": {},
   "source": [
    "### *K-Nearest Neighbor Classifier*"
   ]
  },
  {
   "cell_type": "code",
   "execution_count": 51,
   "metadata": {},
   "outputs": [
    {
     "name": "stdout",
     "output_type": "stream",
     "text": [
      "0.9581151832460733\n",
      "              precision    recall  f1-score   support\n",
      "\n",
      "           0       1.00      0.94      0.97       128\n",
      "           1       0.89      1.00      0.94        63\n",
      "\n",
      "    accuracy                           0.96       191\n",
      "   macro avg       0.94      0.97      0.95       191\n",
      "weighted avg       0.96      0.96      0.96       191\n",
      "\n",
      "[[120   8]\n",
      " [  0  63]]\n"
     ]
    }
   ],
   "source": [
    "knn = KNeighborsClassifier(n_neighbors = 5) ##n_neighbors = 5 for A3,A4,A7,A9,A10 only\n",
    "scores = cross_val_score(knn, x_train, y_train, cv = 10)\n",
    "#print scores.mean(), scores.std()*2\n",
    "start = time.time()\n",
    "knn.fit(x_train, y_train)\n",
    "stop = time.time()\n",
    "knn_time = f\"{stop - start}\"\n",
    "knn_prediction = knn.predict(x_test)\n",
    "knn_accuracy = knn.score(x_test, y_test)\n",
    "\n",
    "\n",
    "\n",
    "\"\"\"print out classification accuracy, report and confusion matrix\"\"\"\n",
    "print(knn_accuracy)\n",
    "print(classification_report(y_test, knn_prediction))\n",
    "cm_knn = confusion_matrix(y_test, knn_prediction)\n",
    "print(cm_knn)\n",
    "TN_knn, FP_knn, FN_knn, TP_knn = cm_knn.ravel()"
   ]
  },
  {
   "cell_type": "code",
   "execution_count": 52,
   "metadata": {
    "colab": {
     "base_uri": "https://localhost:8080/"
    },
    "id": "sb0djNlKMsIg",
    "outputId": "5d8f7aa5-d3a6-476f-940c-bc8ef1799ef5",
    "scrolled": true
   },
   "outputs": [
    {
     "name": "stdout",
     "output_type": "stream",
     "text": [
      "AUC Score: 0.96875\n"
     ]
    }
   ],
   "source": [
    "#AUC Score\n",
    "auc_score_knn = roc_auc_score(y_test, knn.predict(x_test))\n",
    "fpr_knn, tpr_knn, thresholds_knn = roc_curve(y_test, knn.predict_proba(x_test)[:,1])\n",
    "print(\"AUC Score:\",auc_score_knn)"
   ]
  },
  {
   "cell_type": "code",
   "execution_count": 53,
   "metadata": {},
   "outputs": [
    {
     "data": {
      "image/png": "[encoded data removed]",
      "text/plain": [
       "<Figure size 432x288 with 2 Axes>"
      ]
     },
     "metadata": {
      "needs_background": "light"
     },
     "output_type": "display_data"
    }
   ],
   "source": [
    "#Confusion Matrix\n",
    "cm_knn = confusion_matrix(y_test, knn_prediction)\n",
    "\n",
    "#Plotting the confusion matrix\n",
    "ax = sns.heatmap(cm_knn, annot=True, annot_kws={\"fontsize\":18}, cmap='PuBu', fmt='.3g', linewidths=1, linecolor='black')\n",
    "ax.set_title('Confusion Matrix');\n",
    "ax.set_xlabel('Predicted Values')\n",
    "ax.set_ylabel('Actual Values ');\n",
    "\n",
    "## Ticket labels - List must be in alphabetical order\n",
    "ax.xaxis.set_ticklabels(['False','True'])\n",
    "ax.yaxis.set_ticklabels(['False','True'])\n",
    "\n",
    "## Display the visualization of the Confusion Matrix.\n",
    "plt.show()"
   ]
  },
  {
   "cell_type": "code",
   "execution_count": 54,
   "metadata": {},
   "outputs": [
    {
     "name": "stdout",
     "output_type": "stream",
     "text": [
      "Sensitivity: 1.0\n",
      "Specificity: 0.9375\n",
      "Precision: 0.8873239436619719\n",
      "Accuracy: 0.9581151832460733\n"
     ]
    }
   ],
   "source": [
    "# 1.  Sensitivity\n",
    "sensitivity_knn = TP_knn / float(TP_knn + FN_knn)\n",
    "print(\"Sensitivity:\",sensitivity_knn)\n",
    "\n",
    "# 2.  Specificity\n",
    "specificity_knn = TN_knn / float(TN_knn + FP_knn)\n",
    "print(\"Specificity:\",specificity_knn)\n",
    "\n",
    "# 3.  Precision\n",
    "precision_knn = TP_knn / float(TP_knn + FP_knn)\n",
    "print(\"Precision:\",precision_knn)\n",
    "\n",
    "# 4.  Accuracy\n",
    "accuracy_knn = (TP_knn + TN_knn) / float(TP_knn + TN_knn + FN_knn + FP_knn)\n",
    "print(\"Accuracy:\",accuracy_knn)"
   ]
  },
  {
   "cell_type": "code",
   "execution_count": null,
   "metadata": {},
   "outputs": [],
   "source": []
  },
  {
   "cell_type": "markdown",
   "metadata": {
    "id": "M5NO-omYzgYP"
   },
   "source": [
    "### *ROC Curve*"
   ]
  },
  {
   "cell_type": "code",
   "execution_count": 55,
   "metadata": {
    "colab": {
     "base_uri": "https://localhost:8080/",
     "height": 350
    },
    "id": "GRdEzqAszfTc",
    "outputId": "89f5fad5-8cd1-4906-9411-0fbdb9182c27"
   },
   "outputs": [
    {
     "data": {
      "image/png": "[encoded data removed]",
      "text/plain": [
       "<Figure size 1080x360 with 1 Axes>"
      ]
     },
     "metadata": {
      "needs_background": "light"
     },
     "output_type": "display_data"
    }
   ],
   "source": [
    "#Plotting the ROC Curve\n",
    "plt.figure(figsize=(15,5))\n",
    "plt.plot(fpr_dcTree, tpr_dcTree, label='DecisionTree Classifier: AUC = %0.2f' % auc_score_dcTree, linewidth=2)\n",
    "plt.plot(fpr_NB, tpr_NB, label='Multinomial Naive Bayes: AUC = %0.2f' % auc_score_NB, linewidth=2)\n",
    "plt.plot(fpr_LR, tpr_LR, label='Logistic Regression: AUC = %0.2f' % auc_score_LR, linewidth=2)\n",
    "plt.plot(fpr_svm, tpr_svm, label='Support Vector Machines (SVM): AUC = %0.2f' % auc_score_svm, linewidth=3, linestyle='dashed')\n",
    "plt.plot(fpr_NN, tpr_NN, label='Multi Layer Perceptron Classifier: AUC = %0.2f' % auc_score_NN, linewidth=2)\n",
    "plt.plot(fpr_knn, tpr_knn, label='K-Nearest-Neighbors (kNN): AUC = %0.2f' % auc_score_knn, linewidth=2)\n",
    "plt.plot([0, 1], [0, 1],'p--')\n",
    "plt.xlim([-0.003, 1.0])\n",
    "plt.ylim([-0.003, 1.05])\n",
    "plt.xlabel('False Positive Rate')\n",
    "plt.ylabel('True Positive Rate')\n",
    "plt.title('Receiver Operating Characteristic')\n",
    "plt.legend()\n",
    "plt.show()"
   ]
  },
  {
   "cell_type": "code",
   "execution_count": null,
   "metadata": {},
   "outputs": [],
   "source": []
  },
  {
   "cell_type": "markdown",
   "metadata": {
    "id": "Yf4Cfw_Lb-aG"
   },
   "source": [
    "# **Evaluation Metrics**"
   ]
  },
  {
   "cell_type": "code",
   "execution_count": 56,
   "metadata": {
    "colab": {
     "base_uri": "https://localhost:8080/",
     "height": 174
    },
    "id": "cA57dos3Wbzl",
    "outputId": "618cd24a-74dd-46f7-fb08-696ddc9c1404"
   },
   "outputs": [
    {
     "data": {
      "text/html": [
       "<div>\n",
       "<style scoped>\n",
       "    .dataframe tbody tr th:only-of-type {\n",
       "        vertical-align: middle;\n",
       "    }\n",
       "\n",
       "    .dataframe tbody tr th {\n",
       "        vertical-align: top;\n",
       "    }\n",
       "\n",
       "    .dataframe thead th {\n",
       "        text-align: right;\n",
       "    }\n",
       "</style>\n",
       "<table border=\"1\" class=\"dataframe\">\n",
       "  <thead>\n",
       "    <tr style=\"text-align: right;\">\n",
       "      <th></th>\n",
       "      <th>Model</th>\n",
       "      <th>Sensitivity</th>\n",
       "      <th>Specificity</th>\n",
       "      <th>Precision</th>\n",
       "      <th>Accuracy</th>\n",
       "      <th>Running Time(s)</th>\n",
       "    </tr>\n",
       "  </thead>\n",
       "  <tbody>\n",
       "    <tr>\n",
       "      <th>0</th>\n",
       "      <td>DecisionTree Classifier</td>\n",
       "      <td>1.000000</td>\n",
       "      <td>1.000000</td>\n",
       "      <td>1.000000</td>\n",
       "      <td>1.000000</td>\n",
       "      <td>0.0</td>\n",
       "    </tr>\n",
       "    <tr>\n",
       "      <th>1</th>\n",
       "      <td>Multinomial Naive Bayes</td>\n",
       "      <td>0.888889</td>\n",
       "      <td>0.703125</td>\n",
       "      <td>0.595745</td>\n",
       "      <td>0.764398</td>\n",
       "      <td>0.008000612258911133</td>\n",
       "    </tr>\n",
       "    <tr>\n",
       "      <th>2</th>\n",
       "      <td>Logistic Regression</td>\n",
       "      <td>1.000000</td>\n",
       "      <td>1.000000</td>\n",
       "      <td>1.000000</td>\n",
       "      <td>1.000000</td>\n",
       "      <td>0.00836038589477539</td>\n",
       "    </tr>\n",
       "    <tr>\n",
       "      <th>3</th>\n",
       "      <td>Support Vector Machines</td>\n",
       "      <td>0.952381</td>\n",
       "      <td>0.968750</td>\n",
       "      <td>0.937500</td>\n",
       "      <td>0.963351</td>\n",
       "      <td>0.03124237060546875</td>\n",
       "    </tr>\n",
       "    <tr>\n",
       "      <th>4</th>\n",
       "      <td>Multi Layer Perceptron Classifier</td>\n",
       "      <td>1.000000</td>\n",
       "      <td>1.000000</td>\n",
       "      <td>1.000000</td>\n",
       "      <td>1.000000</td>\n",
       "      <td>0.04048800468444824</td>\n",
       "    </tr>\n",
       "    <tr>\n",
       "      <th>5</th>\n",
       "      <td>K-Nearest Neighbors</td>\n",
       "      <td>1.000000</td>\n",
       "      <td>0.937500</td>\n",
       "      <td>0.887324</td>\n",
       "      <td>0.958115</td>\n",
       "      <td>0.0</td>\n",
       "    </tr>\n",
       "  </tbody>\n",
       "</table>\n",
       "</div>"
      ],
      "text/plain": [
       "                               Model  Sensitivity  Specificity  Precision  \\\n",
       "0            DecisionTree Classifier     1.000000     1.000000   1.000000   \n",
       "1            Multinomial Naive Bayes     0.888889     0.703125   0.595745   \n",
       "2                Logistic Regression     1.000000     1.000000   1.000000   \n",
       "3            Support Vector Machines     0.952381     0.968750   0.937500   \n",
       "4  Multi Layer Perceptron Classifier     1.000000     1.000000   1.000000   \n",
       "5                K-Nearest Neighbors     1.000000     0.937500   0.887324   \n",
       "\n",
       "   Accuracy       Running Time(s)  \n",
       "0  1.000000                   0.0  \n",
       "1  0.764398  0.008000612258911133  \n",
       "2  1.000000   0.00836038589477539  \n",
       "3  0.963351   0.03124237060546875  \n",
       "4  1.000000   0.04048800468444824  \n",
       "5  0.958115                   0.0  "
      ]
     },
     "execution_count": 56,
     "metadata": {},
     "output_type": "execute_result"
    }
   ],
   "source": [
    "#Evaluation Metrics for different models\n",
    "columns = ['Model', 'Sensitivity', 'Specificity', 'Precision', 'Accuracy', 'Running Time(s)']\n",
    "evaluation_met = pd.DataFrame(columns=columns)\n",
    "\n",
    "evaluation_met['Model'] = ['DecisionTree Classifier', 'Multinomial Naive Bayes', 'Logistic Regression', 'Support Vector Machines','Multi Layer Perceptron Classifier','K-Nearest Neighbors']\n",
    "evaluation_met['Sensitivity'] = [sensitivity_dcTree, sensitivity_NB, sensitivity_LR, sensitivity_svm, sensitivity_NN, sensitivity_knn]\n",
    "evaluation_met['Specificity'] = [specificity_dcTree, specificity_NB, specificity_LR, specificity_svm, specificity_NN, specificity_knn]\n",
    "evaluation_met['Precision'] = [precision_dcTree, precision_NB, precision_LR, precision_svm, precision_NN, precision_knn]\n",
    "evaluation_met['Accuracy'] = [accuracy_dcTree, accuracy_NB, accuracy_LR, accuracy_svm, accuracy_NN, accuracy_knn]\n",
    "evaluation_met['Running Time(s)'] = [dcTree_time, NB_time, LR_time, svm_time, NN_time, knn_time]\n",
    "\n",
    "evaluation_met"
   ]
  },
  {
   "cell_type": "code",
   "execution_count": null,
   "metadata": {},
   "outputs": [],
   "source": []
  },
  {
   "cell_type": "markdown",
   "metadata": {},
   "source": [
    "# **Testing**"
   ]
  },
  {
   "cell_type": "code",
   "execution_count": 57,
   "metadata": {},
   "outputs": [],
   "source": [
    "def Toddler():\n",
    "    s = [0]*10\n",
    "    y = '''\n",
    "    Does your child look at you when you call his/her name?\n",
    "    How easy is it for you to get eye contact with your child?\n",
    "    Does your child point to indicate that she/he wants something (e.g. a toy that is out of reach)?\n",
    "    Does your child point to share interest with you (e.g. pointing at an interesting sight)?\n",
    "    Does your child pretend (e.g. care for dolls, talk on a toy phone)?\n",
    "    Does your child follow where you’re looking?\n",
    "    If you or someone else in the family is visibly upset, does your child show signs of wanting to comfort them? (e.g. stroking hair, hugging them)?\n",
    "    Would you describe your child’s first words as:?\n",
    "    Does your child use simple gestures (e.g. wave goodbye)?\n",
    "    Does your child stare at nothing with no apparent purpose?\n",
    "    '''\n",
    "    y = [i.strip() for i in y.split('\\n')][1:-1]\n",
    "    \n",
    "    for i in range(len(y)):\n",
    "        q = \"Q{}. {}(Yes/No)\".format(i+1,y[i])\n",
    "        q_a = input(q)\n",
    "        while q_a[0].upper() not in (\"Y\",\"N\"):\n",
    "            q_a = input(\"Please enter either yes or no.\\n{}\".format(q))\n",
    "        if q_a[0].upper()=='Y': s[i]=1\n",
    "    \n",
    "    return s"
   ]
  },
  {
   "cell_type": "code",
   "execution_count": 58,
   "metadata": {},
   "outputs": [],
   "source": [
    "def Child():\n",
    "    s = [0]*10\n",
    "    y = '''\n",
    "    She/he often notices small sounds when others do not?\n",
    "    She/he usually concentrates more on the whole picture, rather than the small details?\n",
    "    In a social group, she/he can easily keep track of several different people’s conversations?\n",
    "    She/he finds it easy to go back and forth between different activities?\n",
    "    Does she/he know how to keep a conversation going with his/her peers?\n",
    "    She/he is good at social chit-chat?\n",
    "    When she/he is read a story, she/he finds it difficult to work out the characters intentions or feelings?\n",
    "    When she/he was in preschool, she/he used to enjoy playing games involving pretending with other children?\n",
    "    She/he finds it easy to work out what someone is thinking or feeling just by looking at their face?\n",
    "    She/he finds it hard to make new friends?\n",
    "    '''\n",
    "    y = [i.strip() for i in y.split('\\n')][1:-1]\n",
    "    \n",
    "    for i in range(len(y)):\n",
    "        q = \"Q{}. {}(Yes/No)\".format(i+1,y[i])\n",
    "        q_a = input(q)\n",
    "        while q_a[0].upper() not in (\"Y\",\"N\"):\n",
    "            q_a = input(\"Please enter either yes or no.\\n{}\".format(q))\n",
    "        if q_a[0].upper()=='Y': s[i]=1\n",
    "    \n",
    "    return s"
   ]
  },
  {
   "cell_type": "code",
   "execution_count": 59,
   "metadata": {},
   "outputs": [],
   "source": [
    "def Adolescent():\n",
    "    s = [0]*10\n",
    "    y = '''\n",
    "    She/he often notices small sounds when others do not?\n",
    "    She/he usually concentrates more on the whole picture, rather than the small details?\n",
    "    In a social group, she/he can easily keep track of several different people's conversations?\n",
    "    She/he finds it easy to go back and forth between different activities?\n",
    "    She/he doesn't know how to keep a conversation going with his/her peers?\n",
    "    She/he is good at social chit-chat?\n",
    "    When she/he was younger, she/he used to enjoy playing games involving pretending with other children?\n",
    "    She/he finds it difficult to imagine what it would be like to be someone else?\n",
    "    She/he finds social situations easy?\n",
    "    She/he finds it hard to make new friends?\n",
    "    '''\n",
    "    y = [i.strip() for i in y.split('\\n')][1:-1]\n",
    "    \n",
    "    for i in range(len(y)):\n",
    "        q = \"Q{}. {}(Yes/No)\".format(i+1,y[i])\n",
    "        q_a = input(q)\n",
    "        while q_a[0].upper() not in (\"Y\",\"N\"):\n",
    "            q_a = input(\"Please enter either yes or no.\\n{}\".format(q))\n",
    "        if q_a[0].upper()=='Y': s[i]=1\n",
    "    \n",
    "    return s"
   ]
  },
  {
   "cell_type": "code",
   "execution_count": 60,
   "metadata": {},
   "outputs": [],
   "source": [
    "def Adult():\n",
    "    s = [0]*10\n",
    "    y = '''\n",
    "    She/he notices patterns in things all the time?\n",
    "    She/he usually concentrates more on the whole picture, rather than the small details?\n",
    "    I find it easy to do more than one thing at once?\n",
    "    If there is an interruption, she/he can switch back to what she/he was doing very quick?\n",
    "    I find it easy to read between the lines when someone is talking to me?\n",
    "    I know how to tell if someone listening to me is getting bored?\n",
    "    When I'm reading a story, I find it difficult to work out the characters intentions?\n",
    "    I like to collect information about categories of things (e.g. types of car, types of bird, types of train, types of plant etc)?\n",
    "    I find it easy to work out what someone is thinking or feeling just by looking at their face?\n",
    "    I find it difficult to work out people's intentions?\n",
    "    '''\n",
    "    y = [i.strip() for i in y.split('\\n')][1:-1]\n",
    "    \n",
    "    for i in range(len(y)):\n",
    "        q = \"Q{}. {}(Yes/No)\".format(i+1,y[i])\n",
    "        q_a = input(q)\n",
    "        while q_a[0].upper() not in (\"Y\",\"N\"):\n",
    "            q_a = input(\"Please enter either yes or no.\\n{}\".format(q))\n",
    "        if q_a[0].upper()=='Y': s[i]=1\n",
    "    \n",
    "    return s"
   ]
  },
  {
   "cell_type": "code",
   "execution_count": 61,
   "metadata": {},
   "outputs": [
    {
     "name": "stdout",
     "output_type": "stream",
     "text": [
      "Please Enter the age: 20\n",
      "Please Enter your gender: (male/female)male\n",
      "Do you ever had jaundice: (Yes/No)yes\n",
      "Does any immediate family member have autism: (Yes/No)no\n",
      "Q1. She/he notices patterns in things all the time?(Yes/No)yes\n",
      "Q2. She/he usually concentrates more on the whole picture, rather than the small details?(Yes/No)no\n",
      "Q3. I find it easy to do more than one thing at once?(Yes/No)yes\n",
      "Q4. If there is an interruption, she/he can switch back to what she/he was doing very quick?(Yes/No)no\n",
      "Q5. I find it easy to read between the lines when someone is talking to me?(Yes/No)no\n",
      "Q6. I know how to tell if someone listening to me is getting bored?(Yes/No)yes\n",
      "Q7. When I'm reading a story, I find it difficult to work out the characters intentions?(Yes/No)no\n",
      "Q8. I like to collect information about categories of things (e.g. types of car, types of bird, types of train, types of plant etc)?(Yes/No)no\n",
      "Q9. I find it easy to work out what someone is thinking or feeling just by looking at their face?(Yes/No)yes\n",
      "Q10. I find it difficult to work out people's intentions?(Yes/No)yes\n"
     ]
    }
   ],
   "source": [
    "user_input = {}\n",
    "\n",
    "age = int(input(\"Please Enter the age: \").strip())\n",
    "\n",
    "gender = input(\"Please Enter your gender: (male/female)\").strip()[0]\n",
    "\n",
    "q = \"{}(Yes/No)\".format('Do you ever had jaundice: ')\n",
    "jaundice = input(q)\n",
    "while jaundice.upper()[0] not in (\"Y\",\"N\"):\n",
    "    jaundice = input(\"Please enter either yes or no.\\n{}\".format(q))\n",
    "jaundice = jaundice.strip().lower()\n",
    "\n",
    "\n",
    "q = \"{}(Yes/No)\".format('Does any immediate family member have autism: ')\n",
    "autism = input(q)\n",
    "while autism.upper()[0] not in (\"Y\",\"N\"):\n",
    "    autism = input(\"Please enter either yes or no.\\n{}\".format(q))\n",
    "autism = autism.strip().lower()\n",
    "    \n",
    "if age>1 and age<=4:\n",
    "    score = Toddler()\n",
    "if age>4 and age<=11:\n",
    "    score = Child()\n",
    "elif age>11 and age<=18:\n",
    "    score = Adolescent()\n",
    "elif age>18:\n",
    "    score = Adult()\n",
    "\n",
    "result = sum(score)\n",
    "    \n",
    "user_input[\"age\"] = [age]\n",
    "user_input[\"gender\"] = [gender]\n",
    "user_input[\"jaundice\"] = [jaundice]\n",
    "user_input[\"autism\"] = [autism]\n",
    "user_input[\"A1\"]= [score.pop(0)]\n",
    "user_input[\"A2\"]= [score.pop(0)]\n",
    "user_input[\"A3\"]= [score.pop(0)]\n",
    "user_input[\"A4\"]= [score.pop(0)]\n",
    "user_input[\"A5\"]= [score.pop(0)]\n",
    "user_input[\"A6\"]= [score.pop(0)]\n",
    "user_input[\"A7\"]= [score.pop(0)]\n",
    "user_input[\"A8\"]= [score.pop(0)]\n",
    "user_input[\"A9\"]= [score.pop(0)]\n",
    "user_input[\"A10\"]= [score.pop(0)]\n",
    "user_input[\"result\"]= [result]\n",
    "\n",
    "user_input = pd.DataFrame.from_dict(user_input)\n",
    "user_input = test_process(user_input)\n",
    "user_input = user_input[['A1', 'A2', 'A3', 'A4', 'A5', 'A6', 'A7', 'A8', 'A9', 'A10', 'age','gender', 'jaundice', 'autism', 'result']]\n"
   ]
  },
  {
   "cell_type": "code",
   "execution_count": 62,
   "metadata": {},
   "outputs": [],
   "source": [
    "dcTree_prediction = dcTree.predict(user_input)\n",
    "NB_prediction = NB.predict(user_input)\n",
    "LR_prediction = LR.predict(user_input)\n",
    "svm_prediction = svm.predict(user_input)\n",
    "NN_prediction = NN.predict(user_input)\n",
    "knn_prediction = knn.predict(user_input)"
   ]
  },
  {
   "cell_type": "code",
   "execution_count": 63,
   "metadata": {},
   "outputs": [
    {
     "name": "stdout",
     "output_type": "stream",
     "text": [
      "DecisionTree Classifier Algorithm predicts you have autism\n",
      "Multinomial Naive Bayes Algorithm predicts you don't have autism\n",
      "Logistic Regression Algorithm predicts you don't have autism\n",
      "Support Vector Machine Algorithm predicts you don't have autism\n",
      "Multi Layer Perceptron Classifier Algorithm predicts you don't have autism\n",
      "K-Nearest Neighbor Algorithm predicts you don't have autism\n"
     ]
    }
   ],
   "source": [
    "print(\"DecisionTree Classifier Algorithm predicts you have autism\" if not dcTree_prediction==1 else \"DecisionTree Classifier Algorithm predicts you don't have autism\")\n",
    "print(\"Multinomial Naive Bayes Algorithm predicts you have autism\" if not NB_prediction==1 else \"Multinomial Naive Bayes Algorithm predicts you don't have autism\")\n",
    "print(\"Logistic Regression Algorithm predicts you have autism\" if not LR_prediction==1 else \"Logistic Regression Algorithm predicts you don't have autism\")\n",
    "print(\"Support Vector Machine Algorithm predicts you have autism\" if not svm_prediction==1 else \"Support Vector Machine Algorithm predicts you don't have autism\")\n",
    "print(\"Multi Layer Perceptron Classifier Algorithm predicts you have autism\" if not NN_prediction==1 else \"Multi Layer Perceptron Classifier Algorithm predicts you don't have autism\")\n",
    "print(\"K-Nearest Neighbor Algorithm predicts you have autism\" if not knn_prediction==1 else \"K-Nearest Neighbor Algorithm predicts you don't have autism\")\n"
   ]
  },
  {
   "cell_type": "markdown",
   "metadata": {},
   "source": [
    "#### **Dummy Data**"
   ]
  },
  {
   "cell_type": "code",
   "execution_count": null,
   "metadata": {},
   "outputs": [],
   "source": [
    "user_input = {}\n",
    "score = [0,1,1,0,0,1,0,1,0,0]\n",
    "result = sum(score)\n",
    "user_input[\"age\"] = [6]\n",
    "user_input[\"gender\"] = [\"f\"]\n",
    "user_input[\"jaundice\"] = [\"yes\"]\n",
    "user_input[\"autism\"] = [\"no\"]\n",
    "user_input[\"A1\"]=[score.pop(0)] \n",
    "user_input[\"A2\"]= [score.pop(0)]\n",
    "user_input[\"A3\"]= [score.pop(0)]\n",
    "user_input[\"A4\"]= [score.pop(0)]\n",
    "user_input[\"A5\"]= [score.pop(0)]\n",
    "user_input[\"A6\"]= [score.pop(0)]\n",
    "user_input[\"A7\"]= [score.pop(0)]\n",
    "user_input[\"A8\"]= [score.pop(0)]\n",
    "user_input[\"A9\"]= [score.pop(0)]\n",
    "user_input[\"A10\"]= [score.pop(0)]\n",
    "user_input[\"result\"]= [result]\n",
    "\n",
    "user_input = pd.DataFrame.from_dict(user_input)\n",
    "user_input = test_process(user_input)\n",
    "user_input = user_input[['A1', 'A2', 'A3', 'A4', 'A5', 'A6', 'A7', 'A8', 'A9', 'A10', 'age','gender', 'jaundice', 'autism', 'result']]"
   ]
  },
  {
   "cell_type": "code",
   "execution_count": null,
   "metadata": {},
   "outputs": [],
   "source": [
    "print(user_input)"
   ]
  },
  {
   "cell_type": "code",
   "execution_count": null,
   "metadata": {},
   "outputs": [],
   "source": []
  }
 ],
 "metadata": {
  "kernelspec": {
   "display_name": "Python 3 (ipykernel)",
   "language": "python",
   "name": "python3"
  },
  "language_info": {
   "codemirror_mode": {
    "name": "ipython",
    "version": 3
   },
   "file_extension": ".py",
   "mimetype": "text/x-python",
   "name": "python",
   "nbconvert_exporter": "python",
   "pygments_lexer": "ipython3",
   "version": "3.9.6"
  }
 },
 "nbformat": 4,
 "nbformat_minor": 4
}
